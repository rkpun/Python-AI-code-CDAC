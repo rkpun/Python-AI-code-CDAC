{
 "cells": [
  {
   "cell_type": "code",
   "execution_count": 8,
   "id": "d681f0b8-2bf7-4c03-a488-f5b519a4ef8e",
   "metadata": {},
   "outputs": [],
   "source": [
    "import tensorflow as tf\n",
    "import numpy as np"
   ]
  },
  {
   "cell_type": "code",
   "execution_count": 2,
   "id": "87d720ba-2515-46f8-b972-6897c7f29abe",
   "metadata": {},
   "outputs": [
    {
     "data": {
      "text/plain": [
       "<module 'tensorflow' from 'C:\\\\Users\\\\rajesh\\\\AppData\\\\Roaming\\\\Python\\\\Python311\\\\site-packages\\\\tensorflow\\\\__init__.py'>"
      ]
     },
     "execution_count": 2,
     "metadata": {},
     "output_type": "execute_result"
    }
   ],
   "source": [
    "tf"
   ]
  },
  {
   "cell_type": "code",
   "execution_count": 3,
   "id": "6de47f42-b01b-47a2-be0e-7a3b75f033c9",
   "metadata": {},
   "outputs": [
    {
     "name": "stdout",
     "output_type": "stream",
     "text": [
      "Tensor a= tf.Tensor([1 2 3], shape=(3,), dtype=int32)\n",
      "Tensor b= tf.Tensor([4 5 6], shape=(3,), dtype=int32)\n"
     ]
    }
   ],
   "source": [
    "#Create Tensors\n",
    "a=tf.constant([1,2,3])\n",
    "b=tf.constant([4,5,6])\n",
    "print('Tensor a=',a)\n",
    "print('Tensor b=',b)"
   ]
  },
  {
   "cell_type": "code",
   "execution_count": 4,
   "id": "2686c585-8d70-44d6-a0ff-f13574e133a0",
   "metadata": {},
   "outputs": [
    {
     "data": {
      "text/plain": [
       "<tf.Tensor: shape=(), dtype=int32, numpy=2>"
      ]
     },
     "execution_count": 4,
     "metadata": {},
     "output_type": "execute_result"
    }
   ],
   "source": [
    "a[1]"
   ]
  },
  {
   "cell_type": "code",
   "execution_count": 9,
   "id": "77688868-a40b-48e8-807e-5d828ee6ef50",
   "metadata": {},
   "outputs": [
    {
     "name": "stdout",
     "output_type": "stream",
     "text": [
      "Tensor x= tf.Tensor(\n",
      "[[1 2 3]\n",
      " [7 8 9]], shape=(2, 3), dtype=int8)\n",
      "Tensor y= tf.Tensor(\n",
      "[[4 5]\n",
      " [6 2]], shape=(2, 2), dtype=int32)\n"
     ]
    }
   ],
   "source": [
    "#Create Tensors\n",
    "x=tf.constant([[1,2,3], [7,8,9]], dtype=np.int8)\n",
    "y=tf.constant([[4,5], [6,2]])\n",
    "print('Tensor x=',x)\n",
    "print('Tensor y=',y)"
   ]
  },
  {
   "cell_type": "code",
   "execution_count": 11,
   "id": "be743b21-f174-4764-a786-2388dd2e651e",
   "metadata": {},
   "outputs": [
    {
     "name": "stdout",
     "output_type": "stream",
     "text": [
      "Tensor x1= tf.Tensor(\n",
      "[[[1 2 3]\n",
      "  [7 8 9]]\n",
      "\n",
      " [[2 2 3]\n",
      "  [2 1 1]]], shape=(2, 2, 3), dtype=int8)\n",
      "Tensor y1= tf.Tensor(\n",
      "[[4 5]\n",
      " [6 2]], shape=(2, 2), dtype=int32)\n"
     ]
    }
   ],
   "source": [
    "#Create Tensors\n",
    "x1=tf.constant([[[1,2,3], [7,8,9]],[[2,2,3], [2,1,1]]], dtype=np.int8)\n",
    "y1=tf.constant([[4,5], [6,2]])\n",
    "print('Tensor x1=',x1)\n",
    "print('Tensor y1=',y1)"
   ]
  },
  {
   "cell_type": "code",
   "execution_count": 12,
   "id": "0e085495-4ac0-4365-8d45-39f15c1f6e5f",
   "metadata": {},
   "outputs": [
    {
     "name": "stdout",
     "output_type": "stream",
     "text": [
      "Addition c= tf.Tensor([5 7 9], shape=(3,), dtype=int32)\n"
     ]
    }
   ],
   "source": [
    "c=tf.add(a,b)\n",
    "print('Addition c=', c)"
   ]
  },
  {
   "cell_type": "code",
   "execution_count": 13,
   "id": "7bbb25eb-d6f2-433c-91ad-6650ce0b2af6",
   "metadata": {},
   "outputs": [
    {
     "data": {
      "text/plain": [
       "<tf.Tensor: shape=(3,), dtype=int32, numpy=array([5, 7, 9])>"
      ]
     },
     "execution_count": 13,
     "metadata": {},
     "output_type": "execute_result"
    }
   ],
   "source": [
    "a+b"
   ]
  },
  {
   "cell_type": "code",
   "execution_count": 14,
   "id": "4a3d5cc9-c82a-4179-86bf-a00176aa78a5",
   "metadata": {},
   "outputs": [
    {
     "data": {
      "text/plain": [
       "<tf.Tensor: shape=(3,), dtype=int32, numpy=array([-3, -3, -3])>"
      ]
     },
     "execution_count": 14,
     "metadata": {},
     "output_type": "execute_result"
    }
   ],
   "source": [
    "a-b"
   ]
  },
  {
   "cell_type": "code",
   "execution_count": 15,
   "id": "1fd8ddb9-83cc-493b-a8a2-3a4e552f8603",
   "metadata": {},
   "outputs": [
    {
     "data": {
      "text/plain": [
       "array([5, 7, 9])"
      ]
     },
     "execution_count": 15,
     "metadata": {},
     "output_type": "execute_result"
    }
   ],
   "source": [
    "c.numpy()"
   ]
  },
  {
   "cell_type": "code",
   "execution_count": 16,
   "id": "a3ca5e0f-2b43-4c7e-9627-312e1595ac9d",
   "metadata": {},
   "outputs": [
    {
     "data": {
      "text/plain": [
       "<tf.Tensor: shape=(3,), dtype=int32, numpy=array([ 4, 10, 18])>"
      ]
     },
     "execution_count": 16,
     "metadata": {},
     "output_type": "execute_result"
    }
   ],
   "source": [
    "a*b"
   ]
  },
  {
   "cell_type": "code",
   "execution_count": 17,
   "id": "bdce4e6d-0496-48ce-b47a-4b9337ddba4c",
   "metadata": {},
   "outputs": [
    {
     "data": {
      "text/plain": [
       "<tf.Tensor: shape=(3,), dtype=float64, numpy=array([0.25, 0.4 , 0.5 ])>"
      ]
     },
     "execution_count": 17,
     "metadata": {},
     "output_type": "execute_result"
    }
   ],
   "source": [
    "a/b"
   ]
  },
  {
   "cell_type": "code",
   "execution_count": 19,
   "id": "fea26087-6719-424c-8fdb-5a5ad1fd6ef3",
   "metadata": {},
   "outputs": [
    {
     "data": {
      "text/plain": [
       "<tf.Tensor: shape=(3,), dtype=int32, numpy=array([0, 0, 0])>"
      ]
     },
     "execution_count": 19,
     "metadata": {},
     "output_type": "execute_result"
    }
   ],
   "source": [
    "a//b # only interger part after divide"
   ]
  },
  {
   "cell_type": "code",
   "execution_count": 20,
   "id": "7f9aea05-9b69-47d0-a6a5-9d840b781025",
   "metadata": {},
   "outputs": [
    {
     "data": {
      "text/plain": [
       "<tf.Tensor: shape=(3,), dtype=int32, numpy=array([4, 2, 2])>"
      ]
     },
     "execution_count": 20,
     "metadata": {},
     "output_type": "execute_result"
    }
   ],
   "source": [
    "b//a"
   ]
  },
  {
   "cell_type": "code",
   "execution_count": 21,
   "id": "78521588-628d-4fb9-9597-0c44d5ee0a45",
   "metadata": {},
   "outputs": [
    {
     "data": {
      "text/plain": [
       "<tf.Tensor: shape=(3,), dtype=float64, numpy=array([4. , 2.5, 2. ])>"
      ]
     },
     "execution_count": 21,
     "metadata": {},
     "output_type": "execute_result"
    }
   ],
   "source": [
    "b/a"
   ]
  },
  {
   "cell_type": "code",
   "execution_count": 25,
   "id": "583413f8-27b0-4369-b009-9cf9b72e109a",
   "metadata": {},
   "outputs": [
    {
     "name": "stdout",
     "output_type": "stream",
     "text": [
      "After Multiplication tf.Tensor(\n",
      "[[19 22]\n",
      " [43 50]], shape=(2, 2), dtype=int32)\n"
     ]
    }
   ],
   "source": [
    "# Matrix Multiplication\n",
    "a_matrix = tf.constant([[1,2],[3,4]])\n",
    "b_matrix = tf.constant([[5,6],[7,8]])\n",
    "g=tf.matmul(a_matrix,b_matrix)\n",
    "print('After Multiplication', g)"
   ]
  },
  {
   "cell_type": "code",
   "execution_count": null,
   "id": "460adfc7-b0b7-4e01-97f8-2e69254361c5",
   "metadata": {},
   "outputs": [],
   "source": []
  }
 ],
 "metadata": {
  "kernelspec": {
   "display_name": "Python 3 (ipykernel)",
   "language": "python",
   "name": "python3"
  },
  "language_info": {
   "codemirror_mode": {
    "name": "ipython",
    "version": 3
   },
   "file_extension": ".py",
   "mimetype": "text/x-python",
   "name": "python",
   "nbconvert_exporter": "python",
   "pygments_lexer": "ipython3",
   "version": "3.11.7"
  }
 },
 "nbformat": 4,
 "nbformat_minor": 5
}
