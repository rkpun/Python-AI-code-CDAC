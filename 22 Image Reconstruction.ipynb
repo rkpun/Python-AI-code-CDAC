{
 "cells": [
  {
   "cell_type": "code",
   "execution_count": 42,
   "id": "3ac51c21-b73c-4f2a-8619-abbdbea7a2cf",
   "metadata": {},
   "outputs": [],
   "source": [
    "import cv2\n",
    "import matplotlib.pyplot as plt\n",
    "import numpy as np"
   ]
  },
  {
   "cell_type": "code",
   "execution_count": 43,
   "id": "aa082efa-26b2-436f-8a5d-0f8093c40e6a",
   "metadata": {},
   "outputs": [],
   "source": [
    "img=cv2.imread('images/cat_damaged.png')"
   ]
  },
  {
   "cell_type": "code",
   "execution_count": 44,
   "id": "63ee2f5b-40b9-47cb-988e-31129b3d2adf",
   "metadata": {},
   "outputs": [],
   "source": [
    "cv2.imshow('Damaged Image',img)\n",
    "cv2.waitKey(0)\n",
    "cv2.destroyAllWindows()"
   ]
  },
  {
   "cell_type": "code",
   "execution_count": 45,
   "id": "e718031b-b3c2-4103-8936-364b8bc5d75a",
   "metadata": {},
   "outputs": [],
   "source": [
    "height , width =img.shape[:2]"
   ]
  },
  {
   "cell_type": "code",
   "execution_count": 46,
   "id": "e650fdfa-66ec-4150-8cd7-ec7300b28ccd",
   "metadata": {},
   "outputs": [
    {
     "data": {
      "text/plain": [
       "(400, 400)"
      ]
     },
     "execution_count": 46,
     "metadata": {},
     "output_type": "execute_result"
    }
   ],
   "source": [
    "height, width"
   ]
  },
  {
   "cell_type": "code",
   "execution_count": 47,
   "id": "c3ccec60-8a0f-46f9-9b6d-5a1ec782d1c6",
   "metadata": {},
   "outputs": [],
   "source": [
    "mask=np.zeros([height, width,3], dtype=np.uint8)"
   ]
  },
  {
   "cell_type": "code",
   "execution_count": 48,
   "id": "b65367ea-d31b-49fb-b42d-ad1e736442bc",
   "metadata": {},
   "outputs": [],
   "source": [
    "cv2.imshow('Mask', mask)\n",
    "cv2.waitKey(0)\n",
    "cv2.destroyAllWindows()"
   ]
  },
  {
   "cell_type": "code",
   "execution_count": 49,
   "id": "9ff63203-b53a-4161-9280-74bb0a1c91d0",
   "metadata": {},
   "outputs": [],
   "source": [
    "for i in range(height):\n",
    "    for j in range(width):\n",
    "        if img[i,j].sum() == 0:\n",
    "            mask[i,j] = [255, 255, 255]\n",
    "cv2.imshow('Mask', mask)\n",
    "cv2.waitKey(0)\n",
    "cv2.destroyAllWindows()"
   ]
  },
  {
   "cell_type": "code",
   "execution_count": 50,
   "id": "8e206cf1-c5cf-4278-9770-bb510fbbb2db",
   "metadata": {},
   "outputs": [],
   "source": [
    "mask = cv2.cvtColor(mask, cv2.COLOR_BGR2GRAY)"
   ]
  },
  {
   "cell_type": "code",
   "execution_count": 51,
   "id": "c3e6c0c8-63ff-4977-81df-fec3d7ec0af7",
   "metadata": {},
   "outputs": [],
   "source": [
    "dst= cv2.inpaint(img, mask, 3, cv2.INPAINT_NS)"
   ]
  },
  {
   "cell_type": "code",
   "execution_count": 52,
   "id": "8046e485-0f2d-4de2-8db7-fb302c9bdeba",
   "metadata": {},
   "outputs": [],
   "source": [
    "cv2.imshow('Reconstructed Image', dst)\n",
    "cv2.waitKey(0)\n",
    "cv2.destroyAllWindows()"
   ]
  },
  {
   "cell_type": "code",
   "execution_count": null,
   "id": "aec23eca-3285-4a3b-a627-2f4e27b96f7a",
   "metadata": {},
   "outputs": [],
   "source": []
  }
 ],
 "metadata": {
  "kernelspec": {
   "display_name": "Python 3 (ipykernel)",
   "language": "python",
   "name": "python3"
  },
  "language_info": {
   "codemirror_mode": {
    "name": "ipython",
    "version": 3
   },
   "file_extension": ".py",
   "mimetype": "text/x-python",
   "name": "python",
   "nbconvert_exporter": "python",
   "pygments_lexer": "ipython3",
   "version": "3.11.7"
  }
 },
 "nbformat": 4,
 "nbformat_minor": 5
}
