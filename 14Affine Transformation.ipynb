{
 "cells": [
  {
   "cell_type": "code",
   "execution_count": 1,
   "id": "4086d4c9-c43e-4acb-a211-b4108809a995",
   "metadata": {},
   "outputs": [],
   "source": [
    "import cv2\n",
    "import matplotlib.pyplot as plt\n",
    "import numpy as np\n",
    "img= cv2.imread('images/lenna.png')"
   ]
  },
  {
   "cell_type": "code",
   "execution_count": 10,
   "id": "b7a730dc-c054-4465-9da2-9294b85a60df",
   "metadata": {},
   "outputs": [],
   "source": [
    "tx=50\n",
    "ty=100\n",
    "angle=60\n",
    "scale=1.2\n",
    "shear_x=-0.3\n",
    "shear_y=0.2\n",
    "#Affine Matrix\n",
    "M=np.float32([[scale*np.cos(np.radians(angle)), shear_x, tx],\n",
    "             [shear_y, scale*np.cos(np.radians(angle)), ty]])\n",
    "img_affine= cv2.warpAffine(img, M, (512,512))\n",
    "\n",
    "final_img=np.hstack([img, img_affine])\n",
    "cv2.imshow('Image', final_img)\n",
    "cv2.waitKey(0)\n",
    "cv2.destroyAllWindows()\n"
   ]
  },
  {
   "cell_type": "code",
   "execution_count": null,
   "id": "8416d082-aeee-4fac-97fb-120ec50c89d6",
   "metadata": {},
   "outputs": [],
   "source": []
  }
 ],
 "metadata": {
  "kernelspec": {
   "display_name": "Python 3 (ipykernel)",
   "language": "python",
   "name": "python3"
  },
  "language_info": {
   "codemirror_mode": {
    "name": "ipython",
    "version": 3
   },
   "file_extension": ".py",
   "mimetype": "text/x-python",
   "name": "python",
   "nbconvert_exporter": "python",
   "pygments_lexer": "ipython3",
   "version": "3.11.7"
  }
 },
 "nbformat": 4,
 "nbformat_minor": 5
}
