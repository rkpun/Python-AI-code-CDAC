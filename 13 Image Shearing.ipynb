{
 "cells": [
  {
   "cell_type": "code",
   "execution_count": 4,
   "id": "fd859d33-0ef5-4164-96e3-55e5dd58fbf1",
   "metadata": {},
   "outputs": [],
   "source": [
    "import cv2\n",
    "import matplotlib.pyplot as plt\n",
    "import numpy as np\n",
    "img= cv2.imread('images/lenna.png')"
   ]
  },
  {
   "cell_type": "code",
   "execution_count": 21,
   "id": "8dc36ac2-d973-4f5a-bbd0-500b3b1a0612",
   "metadata": {},
   "outputs": [],
   "source": [
    "shear_x=-0.25\n",
    "shear_y=0.45\n",
    "\n",
    "#Shearing MAtrix\n",
    "M=np.array([[1,shear_x,0],\n",
    "            [shear_y,1,0],\n",
    "            [0,0,1]])\n",
    "rows, cols, _=img.shape\n",
    "#Translation Matrix\n",
    "T=np.float32([[1,0,0],[0,1,50]])\n",
    "\n",
    "img_translation=cv2.warpAffine(img, T, (int(cols*1.5), int(rows*1.5)))\n",
    "sheared_img=cv2.warpPerspective(img_translation, M, (int(cols*1.5), int(rows*1.5)))\n",
    "cv2.imshow('img', sheared_img)\n",
    "cv2.waitKey(0)\n",
    "cv2.destroyAllWindows()\n"
   ]
  },
  {
   "cell_type": "code",
   "execution_count": null,
   "id": "11675571-5e74-49d1-8def-292180169778",
   "metadata": {},
   "outputs": [],
   "source": []
  }
 ],
 "metadata": {
  "kernelspec": {
   "display_name": "Python 3 (ipykernel)",
   "language": "python",
   "name": "python3"
  },
  "language_info": {
   "codemirror_mode": {
    "name": "ipython",
    "version": 3
   },
   "file_extension": ".py",
   "mimetype": "text/x-python",
   "name": "python",
   "nbconvert_exporter": "python",
   "pygments_lexer": "ipython3",
   "version": "3.11.7"
  }
 },
 "nbformat": 4,
 "nbformat_minor": 5
}
