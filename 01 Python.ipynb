{
 "cells": [
  {
   "cell_type": "code",
   "execution_count": 3,
   "id": "983263cc-b664-479f-bca4-5b5851cdd9f6",
   "metadata": {},
   "outputs": [
    {
     "name": "stdout",
     "output_type": "stream",
     "text": [
      "Hello World\n"
     ]
    }
   ],
   "source": [
    "print('Hello World')"
   ]
  },
  {
   "cell_type": "markdown",
   "id": "f5c401bb-cf33-4df5-8cf0-765ade9676ba",
   "metadata": {},
   "source": [
    "#### Simple Python Code"
   ]
  },
  {
   "cell_type": "code",
   "execution_count": 10,
   "id": "2b96a55f-8919-43cf-98d0-90462594e854",
   "metadata": {},
   "outputs": [
    {
     "name": "stdin",
     "output_type": "stream",
     "text": [
      "Enter Temperature in Celcius=  -40\n"
     ]
    },
    {
     "name": "stdout",
     "output_type": "stream",
     "text": [
      "Farenhite Temperature=  -40.0\n"
     ]
    }
   ],
   "source": [
    "c=int(input('Enter Temperature in Celcius= '))\n",
    "f= c * 1.8 + 32\n",
    "print('Farenhite Temperature= ', f)\n"
   ]
  },
  {
   "cell_type": "code",
   "execution_count": 11,
   "id": "4546f760-5598-4bd3-9ef8-99eeff4ae154",
   "metadata": {},
   "outputs": [
    {
     "data": {
      "text/plain": [
       "float"
      ]
     },
     "execution_count": 11,
     "metadata": {},
     "output_type": "execute_result"
    }
   ],
   "source": [
    "type(f)"
   ]
  },
  {
   "cell_type": "code",
   "execution_count": 13,
   "id": "cecbf152-25a5-41f6-9131-48ac4cbba7bf",
   "metadata": {},
   "outputs": [
    {
     "data": {
      "text/plain": [
       "builtin_function_or_method"
      ]
     },
     "execution_count": 13,
     "metadata": {},
     "output_type": "execute_result"
    }
   ],
   "source": [
    "type(print)"
   ]
  },
  {
   "cell_type": "markdown",
   "id": "c3cf824c-4c09-470d-a4b0-a76ab0b1b3a9",
   "metadata": {},
   "source": [
    "##### Decision Statement"
   ]
  },
  {
   "cell_type": "code",
   "execution_count": 20,
   "id": "e6a671c8-d720-4d6c-b09a-c072632146bc",
   "metadata": {},
   "outputs": [
    {
     "name": "stdin",
     "output_type": "stream",
     "text": [
      "Enter a number=  -5\n"
     ]
    },
    {
     "name": "stdout",
     "output_type": "stream",
     "text": [
      "-ve number\n"
     ]
    }
   ],
   "source": [
    "x=int(input('Enter a number= '))\n",
    "if x > 0:\n",
    "    print('+ve number')\n",
    "elif x == 0:\n",
    "    print('Number is Zero')\n",
    "else:\n",
    "    print('-ve number')"
   ]
  },
  {
   "cell_type": "markdown",
   "id": "df420947-0b12-41ce-8a68-81e21a0ad4bd",
   "metadata": {},
   "source": [
    "#### Loops for and while"
   ]
  },
  {
   "cell_type": "code",
   "execution_count": 21,
   "id": "fb7ee9bd-a037-4f12-a645-f60a9f6c4d35",
   "metadata": {},
   "outputs": [
    {
     "name": "stdout",
     "output_type": "stream",
     "text": [
      "Rohit\n",
      "Rohit\n",
      "Rohit\n",
      "Rohit\n",
      "Rohit\n"
     ]
    }
   ],
   "source": [
    "count = 0\n",
    "while count < 5:\n",
    "    print('Rohit')\n",
    "    count = count +1\n",
    "    "
   ]
  },
  {
   "cell_type": "code",
   "execution_count": 22,
   "id": "f23ee078-26f3-4865-9bdd-aba975fca7fc",
   "metadata": {},
   "outputs": [
    {
     "name": "stdout",
     "output_type": "stream",
     "text": [
      "10\n",
      "20\n",
      "30\n",
      "40\n",
      "50\n"
     ]
    }
   ],
   "source": [
    "for i in 10,20,30,40,50:\n",
    "    print(i)"
   ]
  },
  {
   "cell_type": "code",
   "execution_count": 26,
   "id": "eb391b7c-9557-43fc-9642-debb6f994222",
   "metadata": {},
   "outputs": [
    {
     "name": "stdout",
     "output_type": "stream",
     "text": [
      "PPPPPPPPPP\n",
      "uuuuuuuuuu\n",
      "nnnnnnnnnn\n",
      "eeeeeeeeee\n"
     ]
    }
   ],
   "source": [
    "for i in 'Pune':\n",
    "    print(i*10)"
   ]
  },
  {
   "cell_type": "code",
   "execution_count": 30,
   "id": "0df0092e-7a92-4111-b23d-51b584fab100",
   "metadata": {},
   "outputs": [
    {
     "name": "stdout",
     "output_type": "stream",
     "text": [
      "0\n",
      "1\n",
      "4\n",
      "9\n",
      "16\n",
      "25\n",
      "36\n",
      "49\n",
      "64\n",
      "81\n"
     ]
    }
   ],
   "source": [
    "for x in range(10):\n",
    "    print (x * x)"
   ]
  },
  {
   "cell_type": "markdown",
   "id": "41a4c710-ce0c-437a-acc2-bf03afc42533",
   "metadata": {},
   "source": [
    "#### Functions"
   ]
  },
  {
   "cell_type": "code",
   "execution_count": 35,
   "id": "46771075-b323-4e7a-a69d-2eddb358de95",
   "metadata": {},
   "outputs": [],
   "source": [
    "def square(num=10):\n",
    "    sq = num * num\n",
    "    return (sq)"
   ]
  },
  {
   "cell_type": "code",
   "execution_count": 33,
   "id": "5a02e06b-90d1-4436-8dd8-370cc4715d35",
   "metadata": {},
   "outputs": [
    {
     "data": {
      "text/plain": [
       "625"
      ]
     },
     "execution_count": 33,
     "metadata": {},
     "output_type": "execute_result"
    }
   ],
   "source": [
    "square(25)"
   ]
  },
  {
   "cell_type": "code",
   "execution_count": 36,
   "id": "a3aba8cb-c006-4bc2-8ce4-9f7a35a05078",
   "metadata": {},
   "outputs": [
    {
     "data": {
      "text/plain": [
       "100"
      ]
     },
     "execution_count": 36,
     "metadata": {},
     "output_type": "execute_result"
    }
   ],
   "source": [
    "square()"
   ]
  },
  {
   "cell_type": "code",
   "execution_count": 37,
   "id": "8321b1de-cb6f-43ef-bbc6-1c3f03d1a254",
   "metadata": {},
   "outputs": [],
   "source": [
    "def calc(num):\n",
    "    sq= num * num\n",
    "    cu= num ** 3\n",
    "    return sq, cu"
   ]
  },
  {
   "cell_type": "code",
   "execution_count": 38,
   "id": "dd5e85f2-e8bd-41a3-8148-54c3e652cdcd",
   "metadata": {},
   "outputs": [
    {
     "data": {
      "text/plain": [
       "(9, 27)"
      ]
     },
     "execution_count": 38,
     "metadata": {},
     "output_type": "execute_result"
    }
   ],
   "source": [
    "calc(3)"
   ]
  },
  {
   "cell_type": "code",
   "execution_count": 39,
   "id": "b1840a1f-2916-4e52-809f-252b2fe87cdf",
   "metadata": {},
   "outputs": [
    {
     "data": {
      "text/plain": [
       "(25, 125)"
      ]
     },
     "execution_count": 39,
     "metadata": {},
     "output_type": "execute_result"
    }
   ],
   "source": [
    "calc(5)"
   ]
  },
  {
   "cell_type": "markdown",
   "id": "e3d16126-395b-49ea-87a0-22a8a0b2f1c2",
   "metadata": {},
   "source": [
    "#### Pre-built & In-built data structures"
   ]
  },
  {
   "cell_type": "code",
   "execution_count": 40,
   "id": "cecbcac3-56dd-4b11-a802-a5b5ad4363da",
   "metadata": {},
   "outputs": [],
   "source": [
    "num1 = [2,4,6,8,10]"
   ]
  },
  {
   "cell_type": "code",
   "execution_count": 41,
   "id": "85dd9e91-ed96-4837-bcde-0ce8a11fe854",
   "metadata": {},
   "outputs": [
    {
     "data": {
      "text/plain": [
       "list"
      ]
     },
     "execution_count": 41,
     "metadata": {},
     "output_type": "execute_result"
    }
   ],
   "source": [
    "type(num1)"
   ]
  },
  {
   "cell_type": "code",
   "execution_count": 42,
   "id": "69a84444-1c8f-4781-a5de-a33e57809fc9",
   "metadata": {},
   "outputs": [
    {
     "data": {
      "text/plain": [
       "10"
      ]
     },
     "execution_count": 42,
     "metadata": {},
     "output_type": "execute_result"
    }
   ],
   "source": [
    "num1[4]"
   ]
  },
  {
   "cell_type": "code",
   "execution_count": 43,
   "id": "7765fcf6-2caf-4dfa-8bdd-9b5b8ae2919d",
   "metadata": {},
   "outputs": [],
   "source": [
    "num2 = (2,4,6,8,10)"
   ]
  },
  {
   "cell_type": "code",
   "execution_count": 44,
   "id": "5acc3af1-034d-4490-b657-a8baf120fd1c",
   "metadata": {},
   "outputs": [
    {
     "data": {
      "text/plain": [
       "tuple"
      ]
     },
     "execution_count": 44,
     "metadata": {},
     "output_type": "execute_result"
    }
   ],
   "source": [
    "type(num2)"
   ]
  },
  {
   "cell_type": "code",
   "execution_count": 45,
   "id": "3f746ad5-f3a6-4c23-87c9-bde4a8132fe7",
   "metadata": {},
   "outputs": [],
   "source": [
    "num1[2]=50"
   ]
  },
  {
   "cell_type": "code",
   "execution_count": 46,
   "id": "534bb82e-0cc6-49e7-a5c2-81bf1814a65e",
   "metadata": {},
   "outputs": [
    {
     "ename": "TypeError",
     "evalue": "'tuple' object does not support item assignment",
     "output_type": "error",
     "traceback": [
      "\u001b[1;31m---------------------------------------------------------------------------\u001b[0m",
      "\u001b[1;31mTypeError\u001b[0m                                 Traceback (most recent call last)",
      "Cell \u001b[1;32mIn[46], line 1\u001b[0m\n\u001b[1;32m----> 1\u001b[0m num2[\u001b[38;5;241m2\u001b[39m]\u001b[38;5;241m=\u001b[39m\u001b[38;5;241m50\u001b[39m\n",
      "\u001b[1;31mTypeError\u001b[0m: 'tuple' object does not support item assignment"
     ]
    }
   ],
   "source": [
    "num2[2]=50"
   ]
  },
  {
   "cell_type": "code",
   "execution_count": 47,
   "id": "80c9b2ba-5320-43ae-bebe-e25109ade255",
   "metadata": {},
   "outputs": [
    {
     "name": "stdout",
     "output_type": "stream",
     "text": [
      "[2, 4, 50, 8, 10]\n"
     ]
    }
   ],
   "source": [
    "print(num1)"
   ]
  },
  {
   "cell_type": "code",
   "execution_count": 57,
   "id": "f22509dc-7fe0-4f26-93b0-a9735e4cb4ee",
   "metadata": {},
   "outputs": [],
   "source": [
    "num3 = {2,4,6,8,10} # not accessed through indexing"
   ]
  },
  {
   "cell_type": "code",
   "execution_count": 49,
   "id": "bcbf6746-5f36-424c-9e5a-311cd432b11d",
   "metadata": {},
   "outputs": [
    {
     "data": {
      "text/plain": [
       "set"
      ]
     },
     "execution_count": 49,
     "metadata": {},
     "output_type": "execute_result"
    }
   ],
   "source": [
    "type(num3)"
   ]
  },
  {
   "cell_type": "code",
   "execution_count": 50,
   "id": "3d5a04c7-9e24-4db2-89bc-e678652bc2f9",
   "metadata": {},
   "outputs": [],
   "source": [
    "num3= {2,4,6,8,2}"
   ]
  },
  {
   "cell_type": "code",
   "execution_count": 51,
   "id": "250a0cbf-9f12-4638-a950-45651cf75228",
   "metadata": {},
   "outputs": [
    {
     "data": {
      "text/plain": [
       "{2, 4, 6, 8}"
      ]
     },
     "execution_count": 51,
     "metadata": {},
     "output_type": "execute_result"
    }
   ],
   "source": [
    "num3"
   ]
  },
  {
   "cell_type": "code",
   "execution_count": 56,
   "id": "6b959a05-f272-4a20-94fb-bcbb272a5eb1",
   "metadata": {},
   "outputs": [],
   "source": [
    "num4 = {2:10, 3:60, 5:62, 'x':45} # random indexing"
   ]
  },
  {
   "cell_type": "code",
   "execution_count": 53,
   "id": "35438df3-c21e-4a5d-8b6e-9d44827c756e",
   "metadata": {},
   "outputs": [
    {
     "data": {
      "text/plain": [
       "dict"
      ]
     },
     "execution_count": 53,
     "metadata": {},
     "output_type": "execute_result"
    }
   ],
   "source": [
    "type(num4)"
   ]
  },
  {
   "cell_type": "code",
   "execution_count": 54,
   "id": "ea24f7d2-6694-40b4-b32b-3dc7217f481b",
   "metadata": {},
   "outputs": [
    {
     "data": {
      "text/plain": [
       "45"
      ]
     },
     "execution_count": 54,
     "metadata": {},
     "output_type": "execute_result"
    }
   ],
   "source": [
    "num4['x']"
   ]
  },
  {
   "cell_type": "code",
   "execution_count": 55,
   "id": "7469abf0-57c8-4bdc-8e08-1731a6811c57",
   "metadata": {},
   "outputs": [
    {
     "data": {
      "text/plain": [
       "62"
      ]
     },
     "execution_count": 55,
     "metadata": {},
     "output_type": "execute_result"
    }
   ],
   "source": [
    "num4[5]"
   ]
  },
  {
   "cell_type": "markdown",
   "id": "a137df82-b6ca-4b5a-b146-14af86344983",
   "metadata": {},
   "source": [
    "#### class"
   ]
  },
  {
   "cell_type": "code",
   "execution_count": 58,
   "id": "ee5196e7-49f2-4544-bc98-001ad40e009f",
   "metadata": {},
   "outputs": [],
   "source": [
    "num1.reverse()"
   ]
  },
  {
   "cell_type": "code",
   "execution_count": 59,
   "id": "460b726e-67b9-4655-bcdc-9793d5e57815",
   "metadata": {},
   "outputs": [
    {
     "data": {
      "text/plain": [
       "[10, 8, 50, 4, 2]"
      ]
     },
     "execution_count": 59,
     "metadata": {},
     "output_type": "execute_result"
    }
   ],
   "source": [
    "num1"
   ]
  },
  {
   "cell_type": "code",
   "execution_count": 60,
   "id": "e4af7877-5b1d-4f0b-9b34-827272649c50",
   "metadata": {},
   "outputs": [
    {
     "data": {
      "text/plain": [
       "dict_keys([2, 3, 5, 'x'])"
      ]
     },
     "execution_count": 60,
     "metadata": {},
     "output_type": "execute_result"
    }
   ],
   "source": [
    "num4.keys()"
   ]
  },
  {
   "cell_type": "code",
   "execution_count": 61,
   "id": "193a709e-bff2-4c89-9d33-8de2f13f3936",
   "metadata": {},
   "outputs": [],
   "source": [
    "name = 'Rohit'"
   ]
  },
  {
   "cell_type": "code",
   "execution_count": 62,
   "id": "7715887c-0b28-4b56-af55-f2cfa09a8edf",
   "metadata": {},
   "outputs": [
    {
     "data": {
      "text/plain": [
       "['Rohit']"
      ]
     },
     "execution_count": 62,
     "metadata": {},
     "output_type": "execute_result"
    }
   ],
   "source": [
    "name.split()"
   ]
  },
  {
   "cell_type": "code",
   "execution_count": 63,
   "id": "3f923ecb-f2c7-4dcb-aa37-f0ddd6315dcc",
   "metadata": {},
   "outputs": [
    {
     "data": {
      "text/plain": [
       "'ROHIT'"
      ]
     },
     "execution_count": 63,
     "metadata": {},
     "output_type": "execute_result"
    }
   ],
   "source": [
    "name.upper()"
   ]
  },
  {
   "cell_type": "code",
   "execution_count": 65,
   "id": "7ef8e860-cac4-4763-8c87-26bb66c635c0",
   "metadata": {},
   "outputs": [],
   "source": [
    "class Person:\n",
    "    def __init__(self,n,a):\n",
    "        self.name = n\n",
    "        self.age = a\n",
    "    def show(self):\n",
    "        print('Values are= ')\n",
    "        print(self.name,self.age)\n",
    "    "
   ]
  },
  {
   "cell_type": "code",
   "execution_count": 66,
   "id": "1130a534-2b8b-45ec-afd8-79912f903f29",
   "metadata": {},
   "outputs": [],
   "source": [
    "p1=Person('rohit', 30)"
   ]
  },
  {
   "cell_type": "code",
   "execution_count": 67,
   "id": "5c69458d-5f7c-46c8-897e-6c62fbda0d73",
   "metadata": {},
   "outputs": [
    {
     "name": "stdout",
     "output_type": "stream",
     "text": [
      "Values are= \n",
      "rohit 30\n"
     ]
    }
   ],
   "source": [
    "p1.show()"
   ]
  },
  {
   "cell_type": "code",
   "execution_count": 68,
   "id": "4b16422a-4476-487b-affd-aad3e687a50f",
   "metadata": {},
   "outputs": [
    {
     "data": {
      "text/plain": [
       "'rohit'"
      ]
     },
     "execution_count": 68,
     "metadata": {},
     "output_type": "execute_result"
    }
   ],
   "source": [
    "p1.name"
   ]
  },
  {
   "cell_type": "code",
   "execution_count": 69,
   "id": "426b50d6-267f-4e7f-a3fd-a515c12fc73f",
   "metadata": {},
   "outputs": [
    {
     "data": {
      "text/plain": [
       "30"
      ]
     },
     "execution_count": 69,
     "metadata": {},
     "output_type": "execute_result"
    }
   ],
   "source": [
    "p1.age"
   ]
  },
  {
   "cell_type": "markdown",
   "id": "76751955-7285-4e4d-b376-994a33d02b23",
   "metadata": {},
   "source": [
    "#### Using the libraries"
   ]
  },
  {
   "cell_type": "code",
   "execution_count": 84,
   "id": "202b996e-5fb8-4b9b-a101-06d54d433234",
   "metadata": {},
   "outputs": [],
   "source": [
    "import math   # imports whole math library"
   ]
  },
  {
   "cell_type": "code",
   "execution_count": 72,
   "id": "15c3deb4-ac97-488d-ac93-421cb3853fc1",
   "metadata": {},
   "outputs": [
    {
     "data": {
      "text/plain": [
       "1.7320508075688772"
      ]
     },
     "execution_count": 72,
     "metadata": {},
     "output_type": "execute_result"
    }
   ],
   "source": [
    "math.sqrt(3)"
   ]
  },
  {
   "cell_type": "code",
   "execution_count": 73,
   "id": "e346afbd-f1c3-40fe-885b-7bac09f475db",
   "metadata": {},
   "outputs": [
    {
     "data": {
      "text/plain": [
       "3.141592653589793"
      ]
     },
     "execution_count": 73,
     "metadata": {},
     "output_type": "execute_result"
    }
   ],
   "source": [
    "math.pi"
   ]
  },
  {
   "cell_type": "code",
   "execution_count": 83,
   "id": "dc436594-0215-41b5-bdbf-302afe0b99cc",
   "metadata": {},
   "outputs": [],
   "source": [
    "import math as m  # m as alias"
   ]
  },
  {
   "cell_type": "code",
   "execution_count": 75,
   "id": "96a9b502-c713-4b69-9967-511019f6ce7b",
   "metadata": {},
   "outputs": [
    {
     "data": {
      "text/plain": [
       "3.141592653589793"
      ]
     },
     "execution_count": 75,
     "metadata": {},
     "output_type": "execute_result"
    }
   ],
   "source": [
    "m.pi"
   ]
  },
  {
   "cell_type": "code",
   "execution_count": 76,
   "id": "e64db202-c32a-4f9d-a3c5-20c99564e1ed",
   "metadata": {},
   "outputs": [
    {
     "data": {
      "text/plain": [
       "-0.9589242746631385"
      ]
     },
     "execution_count": 76,
     "metadata": {},
     "output_type": "execute_result"
    }
   ],
   "source": [
    "m.sin(5)"
   ]
  },
  {
   "cell_type": "code",
   "execution_count": 77,
   "id": "b705de72-f054-49aa-8fd3-6678f37a4e8c",
   "metadata": {},
   "outputs": [
    {
     "data": {
      "text/plain": [
       "-0.5440211108893698"
      ]
     },
     "execution_count": 77,
     "metadata": {},
     "output_type": "execute_result"
    }
   ],
   "source": [
    "m.sin(10)"
   ]
  },
  {
   "cell_type": "code",
   "execution_count": 81,
   "id": "b4f8325a-6ac0-4f4a-8059-0486395fc16a",
   "metadata": {},
   "outputs": [],
   "source": [
    "from math import sqrt, pi  #selective import"
   ]
  },
  {
   "cell_type": "code",
   "execution_count": 79,
   "id": "f478b398-178b-40ee-a6a0-63b74ee4a888",
   "metadata": {},
   "outputs": [
    {
     "data": {
      "text/plain": [
       "3.4641016151377544"
      ]
     },
     "execution_count": 79,
     "metadata": {},
     "output_type": "execute_result"
    }
   ],
   "source": [
    "sqrt(12)"
   ]
  },
  {
   "cell_type": "code",
   "execution_count": 80,
   "id": "557dc8b8-e4ab-4f15-9241-0e18edb40ca5",
   "metadata": {},
   "outputs": [
    {
     "data": {
      "text/plain": [
       "3.141592653589793"
      ]
     },
     "execution_count": 80,
     "metadata": {},
     "output_type": "execute_result"
    }
   ],
   "source": [
    "pi"
   ]
  },
  {
   "cell_type": "code",
   "execution_count": 82,
   "id": "3f3bd227-4445-4d16-a2a2-b27d65d8f407",
   "metadata": {},
   "outputs": [
    {
     "ename": "NameError",
     "evalue": "name 'log10' is not defined",
     "output_type": "error",
     "traceback": [
      "\u001b[1;31m---------------------------------------------------------------------------\u001b[0m",
      "\u001b[1;31mNameError\u001b[0m                                 Traceback (most recent call last)",
      "Cell \u001b[1;32mIn[82], line 1\u001b[0m\n\u001b[1;32m----> 1\u001b[0m log10(\u001b[38;5;241m5\u001b[39m)\n",
      "\u001b[1;31mNameError\u001b[0m: name 'log10' is not defined"
     ]
    }
   ],
   "source": [
    "log10(5)"
   ]
  },
  {
   "cell_type": "code",
   "execution_count": null,
   "id": "e11e8928-023b-4a57-ace6-ca1baacd2b08",
   "metadata": {},
   "outputs": [],
   "source": []
  }
 ],
 "metadata": {
  "kernelspec": {
   "display_name": "Python 3 (ipykernel)",
   "language": "python",
   "name": "python3"
  },
  "language_info": {
   "codemirror_mode": {
    "name": "ipython",
    "version": 3
   },
   "file_extension": ".py",
   "mimetype": "text/x-python",
   "name": "python",
   "nbconvert_exporter": "python",
   "pygments_lexer": "ipython3",
   "version": "3.11.7"
  }
 },
 "nbformat": 4,
 "nbformat_minor": 5
}
