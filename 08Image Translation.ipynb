{
 "cells": [
  {
   "cell_type": "code",
   "execution_count": 5,
   "id": "166f5264-3e64-45e7-8938-0c6eacd775d1",
   "metadata": {},
   "outputs": [],
   "source": [
    "import numpy as np\n",
    "import cv2\n",
    "import matplotlib.pyplot as plt"
   ]
  },
  {
   "cell_type": "code",
   "execution_count": 16,
   "id": "68fb3661-86db-42b3-b591-6a6dc1a30ebb",
   "metadata": {},
   "outputs": [],
   "source": [
    "image=cv2.imread('images/lenna.png')\n",
    "height,width=image.shape[:2]\n",
    "quarter_height, quarter_width =height/4, width/4\n",
    "T=np.float32([[1,0,quarter_width],[0,1,quarter_height]])\n",
    "img_translation=cv2.warpAffine(image, T, (width, height))"
   ]
  },
  {
   "cell_type": "code",
   "execution_count": 8,
   "id": "18069019-93ff-4f67-9b73-c5f437b0dc5d",
   "metadata": {},
   "outputs": [
    {
     "data": {
      "text/plain": [
       "array([[  1.,   0., 128.],\n",
       "       [  0.,   1., 128.]], dtype=float32)"
      ]
     },
     "execution_count": 8,
     "metadata": {},
     "output_type": "execute_result"
    }
   ],
   "source": [
    "T"
   ]
  },
  {
   "cell_type": "code",
   "execution_count": 15,
   "id": "4dd4d6ba-8a83-48aa-9e9c-8428a09addad",
   "metadata": {},
   "outputs": [],
   "source": [
    "cv2.imshow('Original Image',image)\n",
    "cv2.imshow('Translated Image',img_translation)\n",
    "cv2.waitKey(0)\n",
    "cv2.destroyAllWindows()"
   ]
  },
  {
   "cell_type": "code",
   "execution_count": 17,
   "id": "39202f6f-7f53-4d34-8ed3-99bf16f306df",
   "metadata": {},
   "outputs": [],
   "source": [
    "image=cv2.imread('images/lenna.png')\n",
    "T=np.float32([[1,0,40],[0,1,100]])\n",
    "img_translation=cv2.warpAffine(image, T, (width+100, height+100))\n",
    "cv2.imshow('Original Image',image)\n",
    "cv2.imshow('Translated Image',img_translation)\n",
    "cv2.waitKey(0)\n",
    "cv2.destroyAllWindows()"
   ]
  },
  {
   "cell_type": "code",
   "execution_count": null,
   "id": "fb758abb-2b4b-4451-a614-ceea7e501fd9",
   "metadata": {},
   "outputs": [],
   "source": []
  }
 ],
 "metadata": {
  "kernelspec": {
   "display_name": "Python 3 (ipykernel)",
   "language": "python",
   "name": "python3"
  },
  "language_info": {
   "codemirror_mode": {
    "name": "ipython",
    "version": 3
   },
   "file_extension": ".py",
   "mimetype": "text/x-python",
   "name": "python",
   "nbconvert_exporter": "python",
   "pygments_lexer": "ipython3",
   "version": "3.11.7"
  }
 },
 "nbformat": 4,
 "nbformat_minor": 5
}
