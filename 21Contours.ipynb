{
 "cells": [
  {
   "cell_type": "code",
   "execution_count": 1,
   "id": "2af5d3f4-b2f4-40a1-8ce9-55cce1e66e2e",
   "metadata": {},
   "outputs": [],
   "source": [
    "import cv2\n",
    "import matplotlib.pyplot as plt\n",
    "import numpy as np"
   ]
  },
  {
   "cell_type": "code",
   "execution_count": 20,
   "id": "75cf895d-2e8b-4630-838d-79e4640ef94f",
   "metadata": {},
   "outputs": [],
   "source": [
    "img=cv2.imread('images/circle.png')\n",
    "gray=cv2.cvtColor(img,cv2.COLOR_BGR2GRAY)\n",
    "#Create a binary image where pixels above 127 are set to 255(white), and others to 0 (black)\n",
    "thresh=cv2.threshold(gray, 127, 255, cv2.THRESH_BINARY)[1]\n",
    "\n",
    "#cv2.findContours fins contours in the binary image\n",
    "#cv2.RETR_TREE retrives all the contours and creates a hierarchy tree\n",
    "#cv2.CHAIN_APPROX_SIMPLE approx. contours to save memrory\n",
    "contours, hierarchy = cv2.findContours(thresh, cv2.RETR_TREE, cv2.CHAIN_APPROX_SIMPLE)\n",
    "\n",
    "# -1 draws all contours\n",
    "# (0,255,0) is the color (green)\n",
    "# 2 is the thickness of the lines\n",
    "cv2.drawContours(img, contours, -1, (0, 255, 0), 2)\n",
    "\n",
    "cv2.imshow('Image', img)\n",
    "cv2.waitKey(0)\n",
    "cv2.destroyAllWindows()\n"
   ]
  }
 ],
 "metadata": {
  "kernelspec": {
   "display_name": "Python 3 (ipykernel)",
   "language": "python",
   "name": "python3"
  },
  "language_info": {
   "codemirror_mode": {
    "name": "ipython",
    "version": 3
   },
   "file_extension": ".py",
   "mimetype": "text/x-python",
   "name": "python",
   "nbconvert_exporter": "python",
   "pygments_lexer": "ipython3",
   "version": "3.11.7"
  }
 },
 "nbformat": 4,
 "nbformat_minor": 5
}
