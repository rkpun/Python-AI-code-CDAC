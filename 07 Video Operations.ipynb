{
 "cells": [
  {
   "cell_type": "code",
   "execution_count": 24,
   "id": "9db93d6f-e4fe-4f0c-8a02-8739d8b48fc0",
   "metadata": {},
   "outputs": [],
   "source": [
    "import cv2\n",
    "import matplotlib.pyplot as plt"
   ]
  },
  {
   "cell_type": "code",
   "execution_count": 25,
   "id": "289b5d53-88ab-4959-8f19-45157e94a1a6",
   "metadata": {},
   "outputs": [],
   "source": [
    "vid= cv2.VideoCapture('images/robots.mp4')"
   ]
  },
  {
   "cell_type": "code",
   "execution_count": 3,
   "id": "cba53b40-3cdb-4c5e-b017-062ed381779a",
   "metadata": {},
   "outputs": [
    {
     "data": {
      "text/plain": [
       "< cv2.VideoCapture 000001ED2C915F10>"
      ]
     },
     "execution_count": 3,
     "metadata": {},
     "output_type": "execute_result"
    }
   ],
   "source": [
    "vid"
   ]
  },
  {
   "cell_type": "code",
   "execution_count": 26,
   "id": "001b801d-e056-4875-837c-317dd3c9b405",
   "metadata": {},
   "outputs": [],
   "source": [
    "ret, frame=vid.read()"
   ]
  },
  {
   "cell_type": "code",
   "execution_count": 5,
   "id": "4eefea58-e27c-4520-96ce-656c61b9ce73",
   "metadata": {},
   "outputs": [
    {
     "data": {
      "text/plain": [
       "True"
      ]
     },
     "execution_count": 5,
     "metadata": {},
     "output_type": "execute_result"
    }
   ],
   "source": [
    "ret"
   ]
  },
  {
   "cell_type": "code",
   "execution_count": 6,
   "id": "366fca04-7d87-491d-961b-96927bca7957",
   "metadata": {},
   "outputs": [
    {
     "data": {
      "text/plain": [
       "(640, 640, 3)"
      ]
     },
     "execution_count": 6,
     "metadata": {},
     "output_type": "execute_result"
    }
   ],
   "source": [
    "frame.shape"
   ]
  },
  {
   "cell_type": "code",
   "execution_count": 7,
   "id": "fd714f29-94fa-486e-b8a9-4bdd37d38199",
   "metadata": {},
   "outputs": [],
   "source": [
    "cv2.imshow('Image',frame)\n",
    "cv2.waitKey(0)\n",
    "cv2.destroyAllWindows()"
   ]
  },
  {
   "cell_type": "code",
   "execution_count": 53,
   "id": "7d38384a-5815-441e-ba35-8767630afa11",
   "metadata": {},
   "outputs": [],
   "source": [
    "width=int(vid.get(cv2.CAP_PROP_FRAME_WIDTH))\n",
    "height=int(vid.get(cv2.CAP_PROP_FRAME_HEIGHT))\n",
    "frames=int(vid.get(cv2.CAP_PROP_FRAME_COUNT))\n",
    "fps= int(vid.get(cv2.CAP_PROP_FPS))"
   ]
  },
  {
   "cell_type": "code",
   "execution_count": 54,
   "id": "31e7107f-9991-4216-baf6-60ac1d5b4a6d",
   "metadata": {},
   "outputs": [
    {
     "name": "stdout",
     "output_type": "stream",
     "text": [
      "Video Resolution=  640 640\n",
      "Frame Count=  1799\n",
      "FPS=  30\n"
     ]
    }
   ],
   "source": [
    "print('Video Resolution= ',height,width)\n",
    "print('Frame Count= ',frames)\n",
    "print('FPS= ',fps)"
   ]
  },
  {
   "cell_type": "code",
   "execution_count": 38,
   "id": "4d75ca62-6f71-4b49-9c4e-b97660c7c912",
   "metadata": {},
   "outputs": [],
   "source": [
    "#Show frame by frame with 5ms delay\n",
    "vid= cv2.VideoCapture('images/robots.mp4')\n",
    "while True:\n",
    "    ret, frame=vid.read()\n",
    "    if not ret:\n",
    "        break\n",
    "    cv2.imshow('Video',frame)\n",
    "    if cv2.waitKey(0)==ord('q'):\n",
    "        break\n",
    "\n",
    "cv2.destroyAllWindows()"
   ]
  },
  {
   "cell_type": "code",
   "execution_count": 41,
   "id": "72616461-fec7-47c4-bacc-5d9f23f2cd30",
   "metadata": {},
   "outputs": [],
   "source": [
    "# saving each frame in a jpg file\n",
    "vid= cv2.VideoCapture('images/robots.mp4')\n",
    "success,frame=vid.read()\n",
    "count=1\n",
    "while success:\n",
    "    cv2.imwrite(f'video_frames/RK_{count}.jpg', frame)\n",
    "    success, frame=vid.read()\n",
    "    count+=1"
   ]
  },
  {
   "cell_type": "code",
   "execution_count": 46,
   "id": "209e3c32-1542-446e-a428-7f1824d3fba0",
   "metadata": {},
   "outputs": [],
   "source": [
    "imgf=cv2.imread('video_frames/RK_200.jpg')\n",
    "cv2.imshow('image',imgf)\n",
    "cv2.waitKey(0)\n",
    "cv2.destroyAllWindows()"
   ]
  },
  {
   "cell_type": "code",
   "execution_count": 47,
   "id": "5bd4ad4a-b437-4e02-9f11-3253cd65ccd6",
   "metadata": {},
   "outputs": [
    {
     "name": "stdout",
     "output_type": "stream",
     "text": [
      "0.0 0.0 43.0\n"
     ]
    }
   ],
   "source": [
    "timestamp='00:00:43.0'\n",
    "hours,minutes,seconds =[float(i) for i in timestamp.split(':')]\n",
    "print(hours, minutes, seconds)"
   ]
  },
  {
   "cell_type": "code",
   "execution_count": 58,
   "id": "3a3d0beb-500d-42b5-b7f4-d0c32c4dca74",
   "metadata": {},
   "outputs": [
    {
     "name": "stdout",
     "output_type": "stream",
     "text": [
      "1799 1290.0\n"
     ]
    }
   ],
   "source": [
    "trigger_frame=hours*3600*fps + minutes*60*fps + seconds*fps\n",
    "print(frames, trigger_frame)"
   ]
  },
  {
   "cell_type": "code",
   "execution_count": 60,
   "id": "a3d90381-74b0-4e39-9532-cc2709099b8e",
   "metadata": {},
   "outputs": [],
   "source": [
    "vid.set(1,trigger_frame)\n",
    "success, frame=vid.read()\n",
    "if success:\n",
    "    cv2.imwrite('screen.jpg',frame)"
   ]
  },
  {
   "cell_type": "code",
   "execution_count": 61,
   "id": "1e5839c0-0548-43b1-b00e-380cde15d292",
   "metadata": {},
   "outputs": [
    {
     "data": {
      "text/plain": [
       "False"
      ]
     },
     "execution_count": 61,
     "metadata": {},
     "output_type": "execute_result"
    }
   ],
   "source": [
    "cap = cv2.VideoCapture(0)\n",
    "cap.isOpened()"
   ]
  },
  {
   "cell_type": "code",
   "execution_count": null,
   "id": "604bd2fd-95a5-42cb-9ed8-78d0b89e806f",
   "metadata": {},
   "outputs": [],
   "source": []
  }
 ],
 "metadata": {
  "kernelspec": {
   "display_name": "Python 3 (ipykernel)",
   "language": "python",
   "name": "python3"
  },
  "language_info": {
   "codemirror_mode": {
    "name": "ipython",
    "version": 3
   },
   "file_extension": ".py",
   "mimetype": "text/x-python",
   "name": "python",
   "nbconvert_exporter": "python",
   "pygments_lexer": "ipython3",
   "version": "3.11.7"
  }
 },
 "nbformat": 4,
 "nbformat_minor": 5
}
