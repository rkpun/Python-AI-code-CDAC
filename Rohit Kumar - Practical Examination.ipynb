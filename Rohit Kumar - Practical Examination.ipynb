{
 "cells": [
  {
   "cell_type": "code",
   "execution_count": 108,
   "id": "db7ff068-4a9e-43b3-b2ea-e555ecf9dc37",
   "metadata": {},
   "outputs": [],
   "source": [
    "import numpy as np\n",
    "import pandas as pd\n",
    "import matplotlib.pyplot as plt\n",
    "import seaborn as sns"
   ]
  },
  {
   "cell_type": "code",
   "execution_count": 109,
   "id": "f27b918d-c9fb-4e76-8b63-4a706e8a686c",
   "metadata": {},
   "outputs": [
    {
     "data": {
      "text/html": [
       "<div>\n",
       "<style scoped>\n",
       "    .dataframe tbody tr th:only-of-type {\n",
       "        vertical-align: middle;\n",
       "    }\n",
       "\n",
       "    .dataframe tbody tr th {\n",
       "        vertical-align: top;\n",
       "    }\n",
       "\n",
       "    .dataframe thead th {\n",
       "        text-align: right;\n",
       "    }\n",
       "</style>\n",
       "<table border=\"1\" class=\"dataframe\">\n",
       "  <thead>\n",
       "    <tr style=\"text-align: right;\">\n",
       "      <th></th>\n",
       "      <th>COLOR_INTENSITY</th>\n",
       "      <th>SHAPE</th>\n",
       "      <th>RIPENESS_PER</th>\n",
       "      <th>ALCOHOL_PER</th>\n",
       "      <th>MALIC_ACID_PER</th>\n",
       "      <th>ASH</th>\n",
       "      <th>ALCALINITY_OF_ASH</th>\n",
       "      <th>MAGNESIUM_MEASURE</th>\n",
       "      <th>TOTAL_PHENOLS</th>\n",
       "      <th>FLAVANOIDS</th>\n",
       "      <th>...</th>\n",
       "      <th>HUE</th>\n",
       "      <th>PROLINE</th>\n",
       "      <th>TEMPERATURE</th>\n",
       "      <th>AVG_HUMIDITY</th>\n",
       "      <th>FERT_NITRO_PER</th>\n",
       "      <th>WATER_O2_PER</th>\n",
       "      <th>WATER_PH</th>\n",
       "      <th>FER_P2O5_PER</th>\n",
       "      <th>SOIL_TYPE</th>\n",
       "      <th>CLASS</th>\n",
       "    </tr>\n",
       "  </thead>\n",
       "  <tbody>\n",
       "    <tr>\n",
       "      <th>0</th>\n",
       "      <td>120.53</td>\n",
       "      <td>elliptical</td>\n",
       "      <td>16.73</td>\n",
       "      <td>14.23</td>\n",
       "      <td>1.71</td>\n",
       "      <td>2.43</td>\n",
       "      <td>15.6</td>\n",
       "      <td>127</td>\n",
       "      <td>2.80</td>\n",
       "      <td>3.06</td>\n",
       "      <td>...</td>\n",
       "      <td>1.04</td>\n",
       "      <td>1065</td>\n",
       "      <td>23.34</td>\n",
       "      <td>54.99</td>\n",
       "      <td>31.21</td>\n",
       "      <td>97.67</td>\n",
       "      <td>7.71</td>\n",
       "      <td>52.02</td>\n",
       "      <td>archean</td>\n",
       "      <td>High</td>\n",
       "    </tr>\n",
       "    <tr>\n",
       "      <th>1</th>\n",
       "      <td>112.57</td>\n",
       "      <td>elliptical</td>\n",
       "      <td>20.30</td>\n",
       "      <td>13.20</td>\n",
       "      <td>1.78</td>\n",
       "      <td>2.14</td>\n",
       "      <td>11.2</td>\n",
       "      <td>100</td>\n",
       "      <td>2.65</td>\n",
       "      <td>2.76</td>\n",
       "      <td>...</td>\n",
       "      <td>1.05</td>\n",
       "      <td>1050</td>\n",
       "      <td>23.40</td>\n",
       "      <td>51.91</td>\n",
       "      <td>31.28</td>\n",
       "      <td>99.05</td>\n",
       "      <td>7.66</td>\n",
       "      <td>48.18</td>\n",
       "      <td>archean</td>\n",
       "      <td>High</td>\n",
       "    </tr>\n",
       "    <tr>\n",
       "      <th>2</th>\n",
       "      <td>120.78</td>\n",
       "      <td>elliptical</td>\n",
       "      <td>20.81</td>\n",
       "      <td>13.16</td>\n",
       "      <td>2.36</td>\n",
       "      <td>2.67</td>\n",
       "      <td>18.6</td>\n",
       "      <td>101</td>\n",
       "      <td>2.80</td>\n",
       "      <td>3.24</td>\n",
       "      <td>...</td>\n",
       "      <td>1.03</td>\n",
       "      <td>1185</td>\n",
       "      <td>22.29</td>\n",
       "      <td>50.69</td>\n",
       "      <td>31.92</td>\n",
       "      <td>97.95</td>\n",
       "      <td>7.66</td>\n",
       "      <td>28.15</td>\n",
       "      <td>archean</td>\n",
       "      <td>High</td>\n",
       "    </tr>\n",
       "    <tr>\n",
       "      <th>3</th>\n",
       "      <td>134.17</td>\n",
       "      <td>elliptical</td>\n",
       "      <td>19.47</td>\n",
       "      <td>14.37</td>\n",
       "      <td>1.95</td>\n",
       "      <td>2.50</td>\n",
       "      <td>16.8</td>\n",
       "      <td>113</td>\n",
       "      <td>3.85</td>\n",
       "      <td>3.49</td>\n",
       "      <td>...</td>\n",
       "      <td>0.86</td>\n",
       "      <td>1480</td>\n",
       "      <td>21.28</td>\n",
       "      <td>47.72</td>\n",
       "      <td>31.79</td>\n",
       "      <td>95.46</td>\n",
       "      <td>7.21</td>\n",
       "      <td>55.95</td>\n",
       "      <td>alluvial</td>\n",
       "      <td>High</td>\n",
       "    </tr>\n",
       "    <tr>\n",
       "      <th>4</th>\n",
       "      <td>112.19</td>\n",
       "      <td>round</td>\n",
       "      <td>17.57</td>\n",
       "      <td>13.24</td>\n",
       "      <td>2.59</td>\n",
       "      <td>2.87</td>\n",
       "      <td>21.0</td>\n",
       "      <td>118</td>\n",
       "      <td>2.80</td>\n",
       "      <td>2.69</td>\n",
       "      <td>...</td>\n",
       "      <td>1.04</td>\n",
       "      <td>735</td>\n",
       "      <td>23.76</td>\n",
       "      <td>45.09</td>\n",
       "      <td>31.86</td>\n",
       "      <td>94.45</td>\n",
       "      <td>7.80</td>\n",
       "      <td>55.99</td>\n",
       "      <td>archean</td>\n",
       "      <td>High</td>\n",
       "    </tr>\n",
       "    <tr>\n",
       "      <th>...</th>\n",
       "      <td>...</td>\n",
       "      <td>...</td>\n",
       "      <td>...</td>\n",
       "      <td>...</td>\n",
       "      <td>...</td>\n",
       "      <td>...</td>\n",
       "      <td>...</td>\n",
       "      <td>...</td>\n",
       "      <td>...</td>\n",
       "      <td>...</td>\n",
       "      <td>...</td>\n",
       "      <td>...</td>\n",
       "      <td>...</td>\n",
       "      <td>...</td>\n",
       "      <td>...</td>\n",
       "      <td>...</td>\n",
       "      <td>...</td>\n",
       "      <td>...</td>\n",
       "      <td>...</td>\n",
       "      <td>...</td>\n",
       "      <td>...</td>\n",
       "    </tr>\n",
       "    <tr>\n",
       "      <th>189</th>\n",
       "      <td>102.34</td>\n",
       "      <td>elliptical</td>\n",
       "      <td>21.23</td>\n",
       "      <td>12.07</td>\n",
       "      <td>2.16</td>\n",
       "      <td>2.17</td>\n",
       "      <td>21.0</td>\n",
       "      <td>85</td>\n",
       "      <td>2.60</td>\n",
       "      <td>2.65</td>\n",
       "      <td>...</td>\n",
       "      <td>0.86</td>\n",
       "      <td>378</td>\n",
       "      <td>25.58</td>\n",
       "      <td>46.15</td>\n",
       "      <td>30.14</td>\n",
       "      <td>89.52</td>\n",
       "      <td>8.49</td>\n",
       "      <td>55.83</td>\n",
       "      <td>alluvial</td>\n",
       "      <td>Medium</td>\n",
       "    </tr>\n",
       "    <tr>\n",
       "      <th>190</th>\n",
       "      <td>109.80</td>\n",
       "      <td>elliptical</td>\n",
       "      <td>21.67</td>\n",
       "      <td>12.43</td>\n",
       "      <td>1.53</td>\n",
       "      <td>2.29</td>\n",
       "      <td>NaN</td>\n",
       "      <td>86</td>\n",
       "      <td>2.74</td>\n",
       "      <td>3.15</td>\n",
       "      <td>...</td>\n",
       "      <td>0.69</td>\n",
       "      <td>352</td>\n",
       "      <td>24.23</td>\n",
       "      <td>52.23</td>\n",
       "      <td>30.72</td>\n",
       "      <td>85.91</td>\n",
       "      <td>7.73</td>\n",
       "      <td>55.47</td>\n",
       "      <td>archean</td>\n",
       "      <td>Medium</td>\n",
       "    </tr>\n",
       "    <tr>\n",
       "      <th>191</th>\n",
       "      <td>103.86</td>\n",
       "      <td>round</td>\n",
       "      <td>22.01</td>\n",
       "      <td>11.79</td>\n",
       "      <td>2.13</td>\n",
       "      <td>2.78</td>\n",
       "      <td>28.5</td>\n",
       "      <td>92</td>\n",
       "      <td>2.13</td>\n",
       "      <td>2.24</td>\n",
       "      <td>...</td>\n",
       "      <td>0.97</td>\n",
       "      <td>466</td>\n",
       "      <td>27.62</td>\n",
       "      <td>48.98</td>\n",
       "      <td>30.46</td>\n",
       "      <td>86.31</td>\n",
       "      <td>7.57</td>\n",
       "      <td>47.57</td>\n",
       "      <td>archean</td>\n",
       "      <td>Medium</td>\n",
       "    </tr>\n",
       "    <tr>\n",
       "      <th>192</th>\n",
       "      <td>98.30</td>\n",
       "      <td>elliptical</td>\n",
       "      <td>21.95</td>\n",
       "      <td>12.37</td>\n",
       "      <td>1.63</td>\n",
       "      <td>2.30</td>\n",
       "      <td>24.5</td>\n",
       "      <td>88</td>\n",
       "      <td>2.22</td>\n",
       "      <td>2.45</td>\n",
       "      <td>...</td>\n",
       "      <td>0.89</td>\n",
       "      <td>342</td>\n",
       "      <td>27.54</td>\n",
       "      <td>47.72</td>\n",
       "      <td>30.01</td>\n",
       "      <td>90.60</td>\n",
       "      <td>7.15</td>\n",
       "      <td>45.91</td>\n",
       "      <td>alluvial</td>\n",
       "      <td>Medium</td>\n",
       "    </tr>\n",
       "    <tr>\n",
       "      <th>193</th>\n",
       "      <td>101.33</td>\n",
       "      <td>elliptical</td>\n",
       "      <td>21.60</td>\n",
       "      <td>12.04</td>\n",
       "      <td>4.30</td>\n",
       "      <td>2.38</td>\n",
       "      <td>NaN</td>\n",
       "      <td>80</td>\n",
       "      <td>2.10</td>\n",
       "      <td>1.75</td>\n",
       "      <td>...</td>\n",
       "      <td>0.79</td>\n",
       "      <td>580</td>\n",
       "      <td>25.10</td>\n",
       "      <td>55.42</td>\n",
       "      <td>30.89</td>\n",
       "      <td>88.14</td>\n",
       "      <td>6.68</td>\n",
       "      <td>52.42</td>\n",
       "      <td>archean</td>\n",
       "      <td>Medium</td>\n",
       "    </tr>\n",
       "  </tbody>\n",
       "</table>\n",
       "<p>194 rows × 21 columns</p>\n",
       "</div>"
      ],
      "text/plain": [
       "     COLOR_INTENSITY       SHAPE  RIPENESS_PER  ALCOHOL_PER  MALIC_ACID_PER  \\\n",
       "0             120.53  elliptical         16.73        14.23            1.71   \n",
       "1             112.57  elliptical         20.30        13.20            1.78   \n",
       "2             120.78  elliptical         20.81        13.16            2.36   \n",
       "3             134.17  elliptical         19.47        14.37            1.95   \n",
       "4             112.19       round         17.57        13.24            2.59   \n",
       "..               ...         ...           ...          ...             ...   \n",
       "189           102.34  elliptical         21.23        12.07            2.16   \n",
       "190           109.80  elliptical         21.67        12.43            1.53   \n",
       "191           103.86       round         22.01        11.79            2.13   \n",
       "192            98.30  elliptical         21.95        12.37            1.63   \n",
       "193           101.33  elliptical         21.60        12.04            4.30   \n",
       "\n",
       "      ASH  ALCALINITY_OF_ASH  MAGNESIUM_MEASURE  TOTAL_PHENOLS  FLAVANOIDS  \\\n",
       "0    2.43               15.6                127           2.80        3.06   \n",
       "1    2.14               11.2                100           2.65        2.76   \n",
       "2    2.67               18.6                101           2.80        3.24   \n",
       "3    2.50               16.8                113           3.85        3.49   \n",
       "4    2.87               21.0                118           2.80        2.69   \n",
       "..    ...                ...                ...            ...         ...   \n",
       "189  2.17               21.0                 85           2.60        2.65   \n",
       "190  2.29                NaN                 86           2.74        3.15   \n",
       "191  2.78               28.5                 92           2.13        2.24   \n",
       "192  2.30               24.5                 88           2.22        2.45   \n",
       "193  2.38                NaN                 80           2.10        1.75   \n",
       "\n",
       "     ...   HUE  PROLINE  TEMPERATURE  AVG_HUMIDITY  FERT_NITRO_PER  \\\n",
       "0    ...  1.04     1065        23.34         54.99           31.21   \n",
       "1    ...  1.05     1050        23.40         51.91           31.28   \n",
       "2    ...  1.03     1185        22.29         50.69           31.92   \n",
       "3    ...  0.86     1480        21.28         47.72           31.79   \n",
       "4    ...  1.04      735        23.76         45.09           31.86   \n",
       "..   ...   ...      ...          ...           ...             ...   \n",
       "189  ...  0.86      378        25.58         46.15           30.14   \n",
       "190  ...  0.69      352        24.23         52.23           30.72   \n",
       "191  ...  0.97      466        27.62         48.98           30.46   \n",
       "192  ...  0.89      342        27.54         47.72           30.01   \n",
       "193  ...  0.79      580        25.10         55.42           30.89   \n",
       "\n",
       "     WATER_O2_PER  WATER_PH  FER_P2O5_PER  SOIL_TYPE   CLASS  \n",
       "0           97.67      7.71         52.02    archean    High  \n",
       "1           99.05      7.66         48.18    archean    High  \n",
       "2           97.95      7.66         28.15    archean    High  \n",
       "3           95.46      7.21         55.95   alluvial    High  \n",
       "4           94.45      7.80         55.99    archean    High  \n",
       "..            ...       ...           ...        ...     ...  \n",
       "189         89.52      8.49         55.83   alluvial  Medium  \n",
       "190         85.91      7.73         55.47    archean  Medium  \n",
       "191         86.31      7.57         47.57    archean  Medium  \n",
       "192         90.60      7.15         45.91   alluvial  Medium  \n",
       "193         88.14      6.68         52.42    archean  Medium  \n",
       "\n",
       "[194 rows x 21 columns]"
      ]
     },
     "execution_count": 109,
     "metadata": {},
     "output_type": "execute_result"
    }
   ],
   "source": [
    "#Q-1 Load the Dataset\n",
    "df=pd.read_csv('datasets/grapes_new.csv')\n",
    "df"
   ]
  },
  {
   "cell_type": "code",
   "execution_count": 110,
   "id": "50f4f083-db2a-499a-877d-c0fa1e121f67",
   "metadata": {},
   "outputs": [],
   "source": [
    "#Q-2 Seperate Input and Output Variable\n",
    "x=df.drop(['SHAPE', 'SOIL_TYPE', 'CLASS'],axis=1)  #Input Variable     \n",
    "y= df['CLASS'] # Output Variable"
   ]
  },
  {
   "cell_type": "code",
   "execution_count": 111,
   "id": "c94523cd-ec59-4410-9ccf-dca66dd2c585",
   "metadata": {},
   "outputs": [
    {
     "data": {
      "text/plain": [
       "((194, 18), (194,))"
      ]
     },
     "execution_count": 111,
     "metadata": {},
     "output_type": "execute_result"
    }
   ],
   "source": [
    "x.shape, y.shape"
   ]
  },
  {
   "cell_type": "code",
   "execution_count": 112,
   "id": "07262b52-1751-4cfb-b656-9aca3c38bafb",
   "metadata": {},
   "outputs": [
    {
     "data": {
      "text/plain": [
       "Index(['COLOR_INTENSITY', 'RIPENESS_PER', 'ALCOHOL_PER', 'MALIC_ACID_PER',\n",
       "       'ASH', 'ALCALINITY_OF_ASH', 'MAGNESIUM_MEASURE', 'TOTAL_PHENOLS',\n",
       "       'FLAVANOIDS', 'PROANTHOCYANINS', 'HUE', 'PROLINE', 'TEMPERATURE',\n",
       "       'AVG_HUMIDITY', 'FERT_NITRO_PER', 'WATER_O2_PER', 'WATER_PH',\n",
       "       'FER_P2O5_PER'],\n",
       "      dtype='object')"
      ]
     },
     "execution_count": 112,
     "metadata": {},
     "output_type": "execute_result"
    }
   ],
   "source": [
    "#Question 3 -Applying Data Cleaning\n",
    "x.columns"
   ]
  },
  {
   "cell_type": "code",
   "execution_count": 113,
   "id": "9af7fbb2-1834-491a-bcba-6bef23dacc41",
   "metadata": {},
   "outputs": [
    {
     "data": {
      "text/plain": [
       "CLASS\n",
       "Medium    76\n",
       "High      64\n",
       "Low       54\n",
       "Name: count, dtype: int64"
      ]
     },
     "execution_count": 113,
     "metadata": {},
     "output_type": "execute_result"
    }
   ],
   "source": [
    "y.value_counts()"
   ]
  },
  {
   "cell_type": "code",
   "execution_count": 114,
   "id": "25b651e9-23e7-4ef8-9fa3-9119f303a16e",
   "metadata": {},
   "outputs": [
    {
     "data": {
      "text/plain": [
       "0      False\n",
       "1      False\n",
       "2      False\n",
       "3      False\n",
       "4      False\n",
       "       ...  \n",
       "189    False\n",
       "190    False\n",
       "191    False\n",
       "192    False\n",
       "193    False\n",
       "Length: 194, dtype: bool"
      ]
     },
     "execution_count": 114,
     "metadata": {},
     "output_type": "execute_result"
    }
   ],
   "source": [
    "x.duplicated()"
   ]
  },
  {
   "cell_type": "code",
   "execution_count": 115,
   "id": "7fcf6af3-a8c6-429d-a785-2229b6236fb0",
   "metadata": {},
   "outputs": [
    {
     "data": {
      "text/plain": [
       "COLOR_INTENSITY      194\n",
       "RIPENESS_PER         192\n",
       "ALCOHOL_PER          191\n",
       "MALIC_ACID_PER       194\n",
       "ASH                  194\n",
       "ALCALINITY_OF_ASH    188\n",
       "MAGNESIUM_MEASURE    194\n",
       "TOTAL_PHENOLS        194\n",
       "FLAVANOIDS           194\n",
       "PROANTHOCYANINS      194\n",
       "HUE                  192\n",
       "PROLINE              194\n",
       "TEMPERATURE          194\n",
       "AVG_HUMIDITY         194\n",
       "FERT_NITRO_PER       194\n",
       "WATER_O2_PER         190\n",
       "WATER_PH             194\n",
       "FER_P2O5_PER         194\n",
       "dtype: int64"
      ]
     },
     "execution_count": 115,
     "metadata": {},
     "output_type": "execute_result"
    }
   ],
   "source": [
    "x.count()"
   ]
  },
  {
   "cell_type": "code",
   "execution_count": 116,
   "id": "0e1484f7-dd5e-49d7-a072-edb45b3f2b50",
   "metadata": {},
   "outputs": [
    {
     "data": {
      "text/plain": [
       "COLOR_INTENSITY      0\n",
       "RIPENESS_PER         2\n",
       "ALCOHOL_PER          3\n",
       "MALIC_ACID_PER       0\n",
       "ASH                  0\n",
       "ALCALINITY_OF_ASH    6\n",
       "MAGNESIUM_MEASURE    0\n",
       "TOTAL_PHENOLS        0\n",
       "FLAVANOIDS           0\n",
       "PROANTHOCYANINS      0\n",
       "HUE                  2\n",
       "PROLINE              0\n",
       "TEMPERATURE          0\n",
       "AVG_HUMIDITY         0\n",
       "FERT_NITRO_PER       0\n",
       "WATER_O2_PER         4\n",
       "WATER_PH             0\n",
       "FER_P2O5_PER         0\n",
       "dtype: int64"
      ]
     },
     "execution_count": 116,
     "metadata": {},
     "output_type": "execute_result"
    }
   ],
   "source": [
    "x.isnull().sum()"
   ]
  },
  {
   "cell_type": "code",
   "execution_count": 117,
   "id": "d54385bc-8ca6-4ac6-a583-07b0558eb60e",
   "metadata": {},
   "outputs": [],
   "source": [
    "x['ALCALINITY_OF_ASH']=x['ALCALINITY_OF_ASH'].fillna(x['ALCALINITY_OF_ASH'].mean())\n",
    "x['RIPENESS_PER']=x['RIPENESS_PER'].fillna(x['RIPENESS_PER'].mean())\n",
    "x['ALCOHOL_PER']=x['ALCOHOL_PER'].fillna(x['ALCOHOL_PER'].mean())\n",
    "x['HUE']=x['HUE'].fillna(x['HUE'].mean())\n",
    "x['WATER_O2_PER']=x['WATER_O2_PER'].fillna(x['WATER_O2_PER'].mean())"
   ]
  },
  {
   "cell_type": "code",
   "execution_count": 38,
   "id": "26b05cb1-a67e-40db-8b85-cb0f8fda6d43",
   "metadata": {},
   "outputs": [
    {
     "data": {
      "text/plain": [
       "COLOR_INTENSITY      0\n",
       "RIPENESS_PER         0\n",
       "ALCOHOL_PER          0\n",
       "MALIC_ACID_PER       0\n",
       "ASH                  0\n",
       "ALCALINITY_OF_ASH    0\n",
       "MAGNESIUM_MEASURE    0\n",
       "TOTAL_PHENOLS        0\n",
       "FLAVANOIDS           0\n",
       "PROANTHOCYANINS      0\n",
       "HUE                  0\n",
       "PROLINE              0\n",
       "TEMPERATURE          0\n",
       "AVG_HUMIDITY         0\n",
       "FERT_NITRO_PER       0\n",
       "WATER_O2_PER         0\n",
       "WATER_PH             0\n",
       "FER_P2O5_PER         0\n",
       "dtype: int64"
      ]
     },
     "execution_count": 38,
     "metadata": {},
     "output_type": "execute_result"
    }
   ],
   "source": [
    "x.isnull().sum()"
   ]
  },
  {
   "cell_type": "code",
   "execution_count": 39,
   "id": "53575abb-d050-447b-b5b7-f20ceafc1695",
   "metadata": {},
   "outputs": [
    {
     "data": {
      "image/png": "[encoded data removed]",
      "text/plain": [
       "<Figure size 640x480 with 1 Axes>"
      ]
     },
     "metadata": {},
     "output_type": "display_data"
    }
   ],
   "source": [
    "#Q-4 Explore the output vaiable thrugh count Plot and pie chart\n",
    "plt.pie(y.value_counts(),labels=y.value_counts().index,autopct='%2.2f%%');"
   ]
  },
  {
   "cell_type": "code",
   "execution_count": 40,
   "id": "153395df-60b6-4538-8d26-50169644c5e7",
   "metadata": {},
   "outputs": [
    {
     "data": {
      "text/plain": [
       "<Axes: xlabel='CLASS', ylabel='count'>"
      ]
     },
     "execution_count": 40,
     "metadata": {},
     "output_type": "execute_result"
    },
    {
     "data": {
      "image/png": "[encoded data removed]",
      "text/plain": [
       "<Figure size 640x480 with 1 Axes>"
      ]
     },
     "metadata": {},
     "output_type": "display_data"
    }
   ],
   "source": [
    "sns.countplot(x=y)"
   ]
  },
  {
   "cell_type": "code",
   "execution_count": 41,
   "id": "ff369ba5-5843-494a-ae48-2b307fc9dc63",
   "metadata": {},
   "outputs": [
    {
     "data": {
      "text/plain": [
       "0"
      ]
     },
     "execution_count": 41,
     "metadata": {},
     "output_type": "execute_result"
    }
   ],
   "source": [
    "#Q-5 Explore the shape and soil type thrugh count Plot and pie chart\n",
    "df['SHAPE'].isnull().sum()"
   ]
  },
  {
   "cell_type": "code",
   "execution_count": 42,
   "id": "a293e77c-85df-41db-8f3b-a99624fca312",
   "metadata": {},
   "outputs": [
    {
     "data": {
      "text/plain": [
       "0"
      ]
     },
     "execution_count": 42,
     "metadata": {},
     "output_type": "execute_result"
    }
   ],
   "source": [
    "df['SOIL_TYPE'].isnull().sum()"
   ]
  },
  {
   "cell_type": "code",
   "execution_count": 43,
   "id": "f091a62c-5574-4d0f-a41a-4ecf86579666",
   "metadata": {},
   "outputs": [
    {
     "data": {
      "image/png": "[encoded data removed]",
      "text/plain": [
       "<Figure size 640x480 with 1 Axes>"
      ]
     },
     "metadata": {},
     "output_type": "display_data"
    }
   ],
   "source": [
    "plt.pie(df['SHAPE'].value_counts(),labels=df['SHAPE'].value_counts().index,autopct='%2.2f%%');"
   ]
  },
  {
   "cell_type": "code",
   "execution_count": 44,
   "id": "7b77d9db-8662-45d4-b8e5-54f20c26ff34",
   "metadata": {},
   "outputs": [
    {
     "data": {
      "text/plain": [
       "<Axes: xlabel='SHAPE', ylabel='count'>"
      ]
     },
     "execution_count": 44,
     "metadata": {},
     "output_type": "execute_result"
    },
    {
     "data": {
      "image/png": "[encoded data removed]",
      "text/plain": [
       "<Figure size 640x480 with 1 Axes>"
      ]
     },
     "metadata": {},
     "output_type": "display_data"
    }
   ],
   "source": [
    "sns.countplot(x=df['SHAPE'])"
   ]
  },
  {
   "cell_type": "code",
   "execution_count": 45,
   "id": "83801aca-095d-43cb-af46-18090f800b63",
   "metadata": {},
   "outputs": [
    {
     "data": {
      "image/png": "[encoded data removed]",
      "text/plain": [
       "<Figure size 640x480 with 1 Axes>"
      ]
     },
     "metadata": {},
     "output_type": "display_data"
    }
   ],
   "source": [
    "plt.pie(df['SOIL_TYPE'].value_counts(),labels=df['SOIL_TYPE'].value_counts().index,autopct='%2.2f%%');"
   ]
  },
  {
   "cell_type": "code",
   "execution_count": 46,
   "id": "81335140-fe6d-4009-b7a8-0810acb77585",
   "metadata": {},
   "outputs": [
    {
     "data": {
      "text/plain": [
       "<Axes: xlabel='SOIL_TYPE', ylabel='count'>"
      ]
     },
     "execution_count": 46,
     "metadata": {},
     "output_type": "execute_result"
    },
    {
     "data": {
      "image/png": "[encoded data removed]",
      "text/plain": [
       "<Figure size 640x480 with 1 Axes>"
      ]
     },
     "metadata": {},
     "output_type": "display_data"
    }
   ],
   "source": [
    "sns.countplot(x=df['SOIL_TYPE'])"
   ]
  },
  {
   "cell_type": "code",
   "execution_count": 47,
   "id": "59d02e5e-3138-48c5-adba-a0784732bc3d",
   "metadata": {},
   "outputs": [
    {
     "data": {
      "text/plain": [
       "Index(['COLOR_INTENSITY', 'RIPENESS_PER', 'ALCOHOL_PER', 'MALIC_ACID_PER',\n",
       "       'ASH', 'ALCALINITY_OF_ASH', 'MAGNESIUM_MEASURE', 'TOTAL_PHENOLS',\n",
       "       'FLAVANOIDS', 'PROANTHOCYANINS', 'HUE', 'PROLINE', 'TEMPERATURE',\n",
       "       'AVG_HUMIDITY', 'FERT_NITRO_PER', 'WATER_O2_PER', 'WATER_PH',\n",
       "       'FER_P2O5_PER'],\n",
       "      dtype='object')"
      ]
     },
     "execution_count": 47,
     "metadata": {},
     "output_type": "execute_result"
    }
   ],
   "source": [
    "x.columns"
   ]
  },
  {
   "cell_type": "code",
   "execution_count": 48,
   "id": "68abeafc-c1e7-4d47-842e-a85c2d3c6e44",
   "metadata": {},
   "outputs": [
    {
     "name": "stderr",
     "output_type": "stream",
     "text": [
      "C:\\ProgramData\\anaconda3\\Lib\\site-packages\\seaborn\\_oldcore.py:1119: FutureWarning: use_inf_as_na option is deprecated and will be removed in a future version. Convert inf values to NaN before operating instead.\n",
      "  with pd.option_context('mode.use_inf_as_na', True):\n",
      "C:\\ProgramData\\anaconda3\\Lib\\site-packages\\seaborn\\_oldcore.py:1119: FutureWarning: use_inf_as_na option is deprecated and will be removed in a future version. Convert inf values to NaN before operating instead.\n",
      "  with pd.option_context('mode.use_inf_as_na', True):\n",
      "C:\\ProgramData\\anaconda3\\Lib\\site-packages\\seaborn\\_oldcore.py:1119: FutureWarning: use_inf_as_na option is deprecated and will be removed in a future version. Convert inf values to NaN before operating instead.\n",
      "  with pd.option_context('mode.use_inf_as_na', True):\n",
      "C:\\ProgramData\\anaconda3\\Lib\\site-packages\\seaborn\\_oldcore.py:1119: FutureWarning: use_inf_as_na option is deprecated and will be removed in a future version. Convert inf values to NaN before operating instead.\n",
      "  with pd.option_context('mode.use_inf_as_na', True):\n",
      "C:\\ProgramData\\anaconda3\\Lib\\site-packages\\seaborn\\_oldcore.py:1119: FutureWarning: use_inf_as_na option is deprecated and will be removed in a future version. Convert inf values to NaN before operating instead.\n",
      "  with pd.option_context('mode.use_inf_as_na', True):\n"
     ]
    },
    {
     "data": {
      "text/plain": [
       "<Axes: xlabel='WATER_PH', ylabel='Density'>"
      ]
     },
     "execution_count": 48,
     "metadata": {},
     "output_type": "execute_result"
    },
    {
     "data": {
      "image/png": "[encoded data removed]",
      "text/plain": [
       "<Figure size 1600x900 with 5 Axes>"
      ]
     },
     "metadata": {},
     "output_type": "display_data"
    }
   ],
   "source": [
    "#Q-6 Explore alcohol_per, temp, avg_humidity, fert_nitro_per, water_ph using kdeplot\n",
    "plt.figure(figsize=(16,9))\n",
    "plt.subplot(1,5,1)\n",
    "sns.kdeplot(x['ALCOHOL_PER'])\n",
    "plt.subplot(1,5,2)\n",
    "sns.kdeplot(x['TEMPERATURE'])\n",
    "plt.subplot(1,5,3)\n",
    "sns.kdeplot(x['AVG_HUMIDITY'])\n",
    "plt.subplot(1,5,4)\n",
    "sns.kdeplot(x['FERT_NITRO_PER'])\n",
    "plt.subplot(1,5,5)\n",
    "sns.kdeplot(x['WATER_PH'])"
   ]
  },
  {
   "cell_type": "code",
   "execution_count": null,
   "id": "eef68276-1991-482f-a651-1a45381069e8",
   "metadata": {},
   "outputs": [],
   "source": [
    "#Q-7 Apply data encoding (if necessary)\n",
    "# Seems not necessary"
   ]
  },
  {
   "cell_type": "code",
   "execution_count": 50,
   "id": "76a80fac-8713-4fd4-9725-3d7a6c293b10",
   "metadata": {},
   "outputs": [],
   "source": [
    "#Q-8 Implement feature selection method chi2 and find top five features\n",
    "from sklearn.feature_selection import SelectKBest, chi2"
   ]
  },
  {
   "cell_type": "code",
   "execution_count": 51,
   "id": "63f1c46b-6653-4762-823c-833b1ab5041f",
   "metadata": {},
   "outputs": [],
   "source": [
    "skf= SelectKBest(k=5, score_func=chi2)"
   ]
  },
  {
   "cell_type": "code",
   "execution_count": 52,
   "id": "63fc4296-d266-4c1a-a821-a426a1fa8fc0",
   "metadata": {},
   "outputs": [
    {
     "data": {
      "text/html": [
       "<style>#sk-container-id-1 {color: black;background-color: white;}#sk-container-id-1 pre{padding: 0;}#sk-container-id-1 div.sk-toggleable {background-color: white;}#sk-container-id-1 label.sk-toggleable__label {cursor: pointer;display: block;width: 100%;margin-bottom: 0;padding: 0.3em;box-sizing: border-box;text-align: center;}#sk-container-id-1 label.sk-toggleable__label-arrow:before {content: \"▸\";float: left;margin-right: 0.25em;color: #696969;}#sk-container-id-1 label.sk-toggleable__label-arrow:hover:before {color: black;}#sk-container-id-1 div.sk-estimator:hover label.sk-toggleable__label-arrow:before {color: black;}#sk-container-id-1 div.sk-toggleable__content {max-height: 0;max-width: 0;overflow: hidden;text-align: left;background-color: #f0f8ff;}#sk-container-id-1 div.sk-toggleable__content pre {margin: 0.2em;color: black;border-radius: 0.25em;background-color: #f0f8ff;}#sk-container-id-1 input.sk-toggleable__control:checked~div.sk-toggleable__content {max-height: 200px;max-width: 100%;overflow: auto;}#sk-container-id-1 input.sk-toggleable__control:checked~label.sk-toggleable__label-arrow:before {content: \"▾\";}#sk-container-id-1 div.sk-estimator input.sk-toggleable__control:checked~label.sk-toggleable__label {background-color: #d4ebff;}#sk-container-id-1 div.sk-label input.sk-toggleable__control:checked~label.sk-toggleable__label {background-color: #d4ebff;}#sk-container-id-1 input.sk-hidden--visually {border: 0;clip: rect(1px 1px 1px 1px);clip: rect(1px, 1px, 1px, 1px);height: 1px;margin: -1px;overflow: hidden;padding: 0;position: absolute;width: 1px;}#sk-container-id-1 div.sk-estimator {font-family: monospace;background-color: #f0f8ff;border: 1px dotted black;border-radius: 0.25em;box-sizing: border-box;margin-bottom: 0.5em;}#sk-container-id-1 div.sk-estimator:hover {background-color: #d4ebff;}#sk-container-id-1 div.sk-parallel-item::after {content: \"\";width: 100%;border-bottom: 1px solid gray;flex-grow: 1;}#sk-container-id-1 div.sk-label:hover label.sk-toggleable__label {background-color: #d4ebff;}#sk-container-id-1 div.sk-serial::before {content: \"\";position: absolute;border-left: 1px solid gray;box-sizing: border-box;top: 0;bottom: 0;left: 50%;z-index: 0;}#sk-container-id-1 div.sk-serial {display: flex;flex-direction: column;align-items: center;background-color: white;padding-right: 0.2em;padding-left: 0.2em;position: relative;}#sk-container-id-1 div.sk-item {position: relative;z-index: 1;}#sk-container-id-1 div.sk-parallel {display: flex;align-items: stretch;justify-content: center;background-color: white;position: relative;}#sk-container-id-1 div.sk-item::before, #sk-container-id-1 div.sk-parallel-item::before {content: \"\";position: absolute;border-left: 1px solid gray;box-sizing: border-box;top: 0;bottom: 0;left: 50%;z-index: -1;}#sk-container-id-1 div.sk-parallel-item {display: flex;flex-direction: column;z-index: 1;position: relative;background-color: white;}#sk-container-id-1 div.sk-parallel-item:first-child::after {align-self: flex-end;width: 50%;}#sk-container-id-1 div.sk-parallel-item:last-child::after {align-self: flex-start;width: 50%;}#sk-container-id-1 div.sk-parallel-item:only-child::after {width: 0;}#sk-container-id-1 div.sk-dashed-wrapped {border: 1px dashed gray;margin: 0 0.4em 0.5em 0.4em;box-sizing: border-box;padding-bottom: 0.4em;background-color: white;}#sk-container-id-1 div.sk-label label {font-family: monospace;font-weight: bold;display: inline-block;line-height: 1.2em;}#sk-container-id-1 div.sk-label-container {text-align: center;}#sk-container-id-1 div.sk-container {/* jupyter's `normalize.less` sets `[hidden] { display: none; }` but bootstrap.min.css set `[hidden] { display: none !important; }` so we also need the `!important` here to be able to override the default hidden behavior on the sphinx rendered scikit-learn.org. See: https://github.com/scikit-learn/scikit-learn/issues/21755 */display: inline-block !important;position: relative;}#sk-container-id-1 div.sk-text-repr-fallback {display: none;}</style><div id=\"sk-container-id-1\" class=\"sk-top-container\"><div class=\"sk-text-repr-fallback\"><pre>SelectKBest(k=5, score_func=&lt;function chi2 at 0x0000028771163380&gt;)</pre><b>In a Jupyter environment, please rerun this cell to show the HTML representation or trust the notebook. <br />On GitHub, the HTML representation is unable to render, please try loading this page with nbviewer.org.</b></div><div class=\"sk-container\" hidden><div class=\"sk-item\"><div class=\"sk-estimator sk-toggleable\"><input class=\"sk-toggleable__control sk-hidden--visually\" id=\"sk-estimator-id-1\" type=\"checkbox\" checked><label for=\"sk-estimator-id-1\" class=\"sk-toggleable__label sk-toggleable__label-arrow\">SelectKBest</label><div class=\"sk-toggleable__content\"><pre>SelectKBest(k=5, score_func=&lt;function chi2 at 0x0000028771163380&gt;)</pre></div></div></div></div></div>"
      ],
      "text/plain": [
       "SelectKBest(k=5, score_func=<function chi2 at 0x0000028771163380>)"
      ]
     },
     "execution_count": 52,
     "metadata": {},
     "output_type": "execute_result"
    }
   ],
   "source": [
    "skf.fit(x,y)"
   ]
  },
  {
   "cell_type": "code",
   "execution_count": 53,
   "id": "b08b76cb-8c78-4cb8-8ca8-5a5350962f5c",
   "metadata": {},
   "outputs": [
    {
     "data": {
      "text/plain": [
       "array([ True, False, False, False, False, False, False, False,  True,\n",
       "       False, False,  True,  True, False, False, False, False,  True])"
      ]
     },
     "execution_count": 53,
     "metadata": {},
     "output_type": "execute_result"
    }
   ],
   "source": [
    "skf.get_support()"
   ]
  },
  {
   "cell_type": "code",
   "execution_count": 58,
   "id": "e3dd6b0d-134c-47f4-b808-c2a365d7c185",
   "metadata": {},
   "outputs": [],
   "source": [
    "x=x.iloc[:, skf.get_support()]"
   ]
  },
  {
   "cell_type": "code",
   "execution_count": 59,
   "id": "7e95e55d-0e23-465d-b5d9-11d13e803e8b",
   "metadata": {},
   "outputs": [
    {
     "data": {
      "text/html": [
       "<div>\n",
       "<style scoped>\n",
       "    .dataframe tbody tr th:only-of-type {\n",
       "        vertical-align: middle;\n",
       "    }\n",
       "\n",
       "    .dataframe tbody tr th {\n",
       "        vertical-align: top;\n",
       "    }\n",
       "\n",
       "    .dataframe thead th {\n",
       "        text-align: right;\n",
       "    }\n",
       "</style>\n",
       "<table border=\"1\" class=\"dataframe\">\n",
       "  <thead>\n",
       "    <tr style=\"text-align: right;\">\n",
       "      <th></th>\n",
       "      <th>COLOR_INTENSITY</th>\n",
       "      <th>FLAVANOIDS</th>\n",
       "      <th>PROLINE</th>\n",
       "      <th>TEMPERATURE</th>\n",
       "      <th>FER_P2O5_PER</th>\n",
       "    </tr>\n",
       "  </thead>\n",
       "  <tbody>\n",
       "    <tr>\n",
       "      <th>0</th>\n",
       "      <td>120.53</td>\n",
       "      <td>3.06</td>\n",
       "      <td>1065</td>\n",
       "      <td>23.34</td>\n",
       "      <td>52.02</td>\n",
       "    </tr>\n",
       "    <tr>\n",
       "      <th>1</th>\n",
       "      <td>112.57</td>\n",
       "      <td>2.76</td>\n",
       "      <td>1050</td>\n",
       "      <td>23.40</td>\n",
       "      <td>48.18</td>\n",
       "    </tr>\n",
       "    <tr>\n",
       "      <th>2</th>\n",
       "      <td>120.78</td>\n",
       "      <td>3.24</td>\n",
       "      <td>1185</td>\n",
       "      <td>22.29</td>\n",
       "      <td>28.15</td>\n",
       "    </tr>\n",
       "    <tr>\n",
       "      <th>3</th>\n",
       "      <td>134.17</td>\n",
       "      <td>3.49</td>\n",
       "      <td>1480</td>\n",
       "      <td>21.28</td>\n",
       "      <td>55.95</td>\n",
       "    </tr>\n",
       "    <tr>\n",
       "      <th>4</th>\n",
       "      <td>112.19</td>\n",
       "      <td>2.69</td>\n",
       "      <td>735</td>\n",
       "      <td>23.76</td>\n",
       "      <td>55.99</td>\n",
       "    </tr>\n",
       "    <tr>\n",
       "      <th>...</th>\n",
       "      <td>...</td>\n",
       "      <td>...</td>\n",
       "      <td>...</td>\n",
       "      <td>...</td>\n",
       "      <td>...</td>\n",
       "    </tr>\n",
       "    <tr>\n",
       "      <th>189</th>\n",
       "      <td>102.34</td>\n",
       "      <td>2.65</td>\n",
       "      <td>378</td>\n",
       "      <td>25.58</td>\n",
       "      <td>55.83</td>\n",
       "    </tr>\n",
       "    <tr>\n",
       "      <th>190</th>\n",
       "      <td>109.80</td>\n",
       "      <td>3.15</td>\n",
       "      <td>352</td>\n",
       "      <td>24.23</td>\n",
       "      <td>55.47</td>\n",
       "    </tr>\n",
       "    <tr>\n",
       "      <th>191</th>\n",
       "      <td>103.86</td>\n",
       "      <td>2.24</td>\n",
       "      <td>466</td>\n",
       "      <td>27.62</td>\n",
       "      <td>47.57</td>\n",
       "    </tr>\n",
       "    <tr>\n",
       "      <th>192</th>\n",
       "      <td>98.30</td>\n",
       "      <td>2.45</td>\n",
       "      <td>342</td>\n",
       "      <td>27.54</td>\n",
       "      <td>45.91</td>\n",
       "    </tr>\n",
       "    <tr>\n",
       "      <th>193</th>\n",
       "      <td>101.33</td>\n",
       "      <td>1.75</td>\n",
       "      <td>580</td>\n",
       "      <td>25.10</td>\n",
       "      <td>52.42</td>\n",
       "    </tr>\n",
       "  </tbody>\n",
       "</table>\n",
       "<p>194 rows × 5 columns</p>\n",
       "</div>"
      ],
      "text/plain": [
       "     COLOR_INTENSITY  FLAVANOIDS  PROLINE  TEMPERATURE  FER_P2O5_PER\n",
       "0             120.53        3.06     1065        23.34         52.02\n",
       "1             112.57        2.76     1050        23.40         48.18\n",
       "2             120.78        3.24     1185        22.29         28.15\n",
       "3             134.17        3.49     1480        21.28         55.95\n",
       "4             112.19        2.69      735        23.76         55.99\n",
       "..               ...         ...      ...          ...           ...\n",
       "189           102.34        2.65      378        25.58         55.83\n",
       "190           109.80        3.15      352        24.23         55.47\n",
       "191           103.86        2.24      466        27.62         47.57\n",
       "192            98.30        2.45      342        27.54         45.91\n",
       "193           101.33        1.75      580        25.10         52.42\n",
       "\n",
       "[194 rows x 5 columns]"
      ]
     },
     "execution_count": 59,
     "metadata": {},
     "output_type": "execute_result"
    }
   ],
   "source": [
    "x"
   ]
  },
  {
   "cell_type": "code",
   "execution_count": 66,
   "id": "ec9ce493-48cc-4ad5-b84f-31da59829455",
   "metadata": {},
   "outputs": [],
   "source": [
    "#Q-9 Apply feature scaling and transform\n",
    "from sklearn.preprocessing import MinMaxScaler"
   ]
  },
  {
   "cell_type": "code",
   "execution_count": 62,
   "id": "fdb86db1-14aa-443e-8ebd-a62c27aedc6e",
   "metadata": {},
   "outputs": [],
   "source": [
    "scaler =MinMaxScaler()"
   ]
  },
  {
   "cell_type": "code",
   "execution_count": 63,
   "id": "ecca84f3-9896-48c0-b4a7-194d39dae2d4",
   "metadata": {},
   "outputs": [],
   "source": [
    "x_scaled = scaler.fit_transform(x)"
   ]
  },
  {
   "cell_type": "code",
   "execution_count": 64,
   "id": "d6183bd8-21e5-45fd-8be9-a0cac1c906e3",
   "metadata": {},
   "outputs": [
    {
     "data": {
      "text/plain": [
       "array([[0.37202703, 0.57383966, 0.56134094, 0.204947  , 0.78345975],\n",
       "       [0.26445946, 0.51054852, 0.55064194, 0.21024735, 0.6895033 ],\n",
       "       [0.37540541, 0.61181435, 0.64693295, 0.11219081, 0.19941277],\n",
       "       [0.55635135, 0.66455696, 0.85734665, 0.0229682 , 0.8796183 ],\n",
       "       [0.25932432, 0.49578059, 0.32596291, 0.24204947, 0.88059701],\n",
       "       [0.46675676, 0.64345992, 0.83594864, 0.10689046, 0.485931  ],\n",
       "       [0.33878378, 0.45991561, 0.72182596, 0.13869258, 0.22167849],\n",
       "       [0.32162162, 0.45780591, 0.7253923 , 0.20936396, 0.33594323],\n",
       "       [0.33445946, 0.55696203, 0.54707561, 0.2614841 , 0.22265721],\n",
       "       [0.50689189, 0.592827  , 0.54707561, 0.51413428, 0.02324443],\n",
       "       [0.38135135, 0.62869198, 0.87874465, 0.2844523 , 0.61389772],\n",
       "       [0.31743243, 0.44092827, 0.7146933 , 0.31183746, 0.52874969],\n",
       "       [0.36864865, 0.51054852, 0.74322397, 0.0335689 , 0.21066797],\n",
       "       [0.35148649, 0.70675105, 0.62196862, 0.35070671, 0.25446538],\n",
       "       [0.53067568, 0.69620253, 0.90513552, 0.29858657, 0.22828481],\n",
       "       [0.51364865, 0.54219409, 0.7360913 , 0.0335689 , 0.11328603],\n",
       "       [0.41972973, 0.5907173 , 0.7146933 , 0.05742049, 0.25152924],\n",
       "       [0.45391892, 0.64556962, 0.60770328, 0.16784452, 0.32468804],\n",
       "       [0.63310811, 0.75738397, 1.        , 0.00971731, 0.32566675],\n",
       "       [0.37716216, 0.02953586, 0.21540656, 0.34452297, 0.24467825],\n",
       "       [0.36864865, 0.03375527, 0.35805991, 0.33568905, 0.49547345],\n",
       "       [0.26621622, 0.09704641, 0.19400856, 0.18727915, 0.75776853],\n",
       "       [0.54351351, 0.06540084, 0.24750357, 0.30212014, 0.43283582],\n",
       "       [0.60918919, 0.08860759, 0.26533524, 0.33038869, 0.23611451],\n",
       "       [0.32594595, 0.56751055, 0.40442225, 0.28268551, 0.14876437],\n",
       "       [0.37283784, 0.59704641, 0.35805991, 0.14575972, 0.73379007],\n",
       "       [0.27472973, 0.43670886, 0.35092725, 0.25265018, 0.70467335],\n",
       "       [0.215     , 0.53586498, 0.53994294, 0.23763251, 0.12698801],\n",
       "       [0.22608108, 0.42827004, 0.5256776 , 0.23674912, 0.45656961],\n",
       "       [0.19108108, 0.47890295, 0.40442225, 0.14045936, 0.45926107],\n",
       "       [0.19621622, 0.49367089, 0.39372325, 0.06713781, 0.22559334],\n",
       "       [0.30040541, 0.54852321, 0.65406562, 0.17226148, 0.77000245],\n",
       "       [0.22783784, 0.39029536, 0.71825963, 0.4090106 , 0.29532665],\n",
       "       [0.27472973, 0.55485232, 0.45435093, 0.31360424, 0.13261561],\n",
       "       [0.29175676, 0.41983122, 0.53994294, 0.16077739, 0.87496942],\n",
       "       [0.37716216, 0.61392405, 0.71825963, 0.32685512, 0.62808906],\n",
       "       [0.47945946, 0.60126582, 0.88231098, 0.29328622, 0.44971862],\n",
       "       [0.21837838, 0.49578059, 0.50784593, 0.16254417, 0.63616345],\n",
       "       [0.35148649, 0.50632911, 0.68259629, 0.32508834, 0.15757279],\n",
       "       [0.24918919, 0.46202532, 0.58273894, 0.21731449, 0.03523367],\n",
       "       [0.32594595, 0.55696203, 0.45791726, 0.06448763, 0.70491803],\n",
       "       [0.28324324, 0.49367089, 0.42938659, 0.13957597, 0.47051627],\n",
       "       [0.25337838, 0.44092827, 0.58987161, 0.1130742 , 0.04820161],\n",
       "       [0.20648649, 0.48523207, 0.52924394, 0.09717314, 0.61928065],\n",
       "       [0.32594595, 0.56962025, 0.34379458, 0.26943463, 0.6231955 ],\n",
       "       [0.41378378, 0.62236287, 0.36875892, 0.17844523, 0.32566675],\n",
       "       [0.25594595, 0.49367089, 0.53994294, 0.26590106, 0.24663567],\n",
       "       [0.35405405, 0.67932489, 0.58273894, 0.        , 0.7479814 ],\n",
       "       [0.26283784, 0.48312236, 0.28673324, 0.01413428, 0.63616345],\n",
       "       [0.32081081, 0.56118143, 0.43295292, 0.20848057, 0.46170785],\n",
       "       [0.33783784, 0.48734177, 0.57203994, 0.03268551, 0.76657695],\n",
       "       [0.30891892, 0.59704641, 0.56134094, 0.24558304, 0.05701003],\n",
       "       [0.41121622, 0.64345992, 0.5042796 , 0.15194346, 0.61536579],\n",
       "       [0.41972973, 0.5443038 , 0.55777461, 0.14222615, 0.84805481],\n",
       "       [0.65013514, 0.67510549, 0.70042796, 0.09805654, 0.        ],\n",
       "       [0.50513514, 0.61814346, 0.62196862, 0.31978799, 0.42476144],\n",
       "       [0.36864865, 0.55907173, 0.70399429, 0.06537102, 0.43014436],\n",
       "       [0.4922973 , 0.71729958, 0.65049929, 0.01413428, 0.86028872],\n",
       "       [0.42837838, 0.51687764, 0.78245364, 0.32420495, 0.05015904],\n",
       "       [0.38986486, 0.54008439, 0.55777461, 0.01590106, 0.24223147],\n",
       "       [0.42405405, 0.51476793, 0.60057061, 0.1254417 , 0.36775141],\n",
       "       [0.43513514, 0.56118143, 0.4935806 , 0.12102473, 0.72253487],\n",
       "       [0.4027027 , 0.60970464, 0.70756063, 0.19876325, 0.08392464],\n",
       "       [0.47094595, 0.70253165, 0.71825963, 0.21908127, 0.85294837],\n",
       "       [0.24067568, 0.19198312, 0.2510699 , 0.69787986, 0.32909224],\n",
       "       [0.35148649, 0.18565401, 0.17974322, 0.74734982, 0.17959383],\n",
       "       [0.37716216, 0.15822785, 0.20114123, 0.85777385, 0.45241008],\n",
       "       [0.31743243, 0.1814346 , 0.2296719 , 0.74469965, 0.45877172],\n",
       "       [0.35581081, 0.05063291, 0.26533524, 0.85070671, 0.76731099],\n",
       "       [0.49662162, 0.06751055, 0.29743224, 0.85335689, 0.3261561 ],\n",
       "       [0.21932432, 0.02742616, 0.31526391, 0.90371025, 0.12405187],\n",
       "       [0.31743243, 0.05485232, 0.16904422, 0.96996466, 0.77465133],\n",
       "       [0.37716216, 0.02953586, 0.21540656, 0.72968198, 0.28651823],\n",
       "       [0.31054054, 0.05485232, 0.22253923, 0.82862191, 0.48495229],\n",
       "       [0.28324324, 0.03375527, 0.2296719 , 0.74734982, 0.14093467],\n",
       "       [0.36864865, 0.03375527, 0.35805991, 0.82508834, 0.63200391],\n",
       "       [0.26189189, 0.03797468, 0.17261056, 0.90547703, 0.24272082],\n",
       "       [0.26621622, 0.09704641, 0.19400856, 1.        , 0.19623195],\n",
       "       [0.59135135, 0.092827  , 0.41155492, 0.90459364, 0.781747  ],\n",
       "       [0.23202703, 0.0443038 , 0.39372325, 0.71024735, 0.36285784],\n",
       "       [0.15108108, 0.14345992, 0.42225392, 0.88869258, 0.63616345],\n",
       "       [0.17918919, 0.53164557, 0.09415121, 0.80918728, 0.67286518],\n",
       "       [0.20986486, 0.3164557 , 0.13837375, 0.83038869, 0.62050404],\n",
       "       [0.17662162, 0.53797468, 0.5042796 , 0.63339223, 0.3048691 ],\n",
       "       [0.16472973, 0.37974684, 0.43366619, 0.67402827, 0.61120626],\n",
       "       [0.215     , 0.25949367, 0.10699001, 0.77561837, 0.37215562],\n",
       "       [0.30891892, 0.        , 0.09771755, 0.92314488, 0.39760215],\n",
       "       [0.54351351, 0.06540084, 0.24750357, 0.88162544, 0.68069489],\n",
       "       [0.60918919, 0.08860759, 0.26533524, 0.96378092, 0.41350624],\n",
       "       [0.69283784, 0.22151899, 0.19400856, 0.99734982, 0.61316369],\n",
       "       [0.62459459, 0.25949367, 0.15834522, 0.65017668, 0.70369464],\n",
       "       [0.8122973 , 0.21518987, 0.14407989, 0.85070671, 0.70173722],\n",
       "       [0.49662162, 0.19831224, 0.10485021, 0.76943463, 0.58013213],\n",
       "       [0.78837838, 0.10337553, 0.2831669 , 0.69876325, 0.18301933],\n",
       "       [0.53918919, 0.05063291, 0.25820257, 0.77561837, 0.49669684],\n",
       "       [0.56486486, 0.06118143, 0.31883024, 0.63780919, 0.70834353],\n",
       "       [0.65959459, 0.10337553, 0.14407989, 0.80477032, 0.59236604],\n",
       "       [0.53067568, 0.05063291, 0.42938659, 0.73674912, 0.71030095],\n",
       "       [1.        , 0.20464135, 0.2724679 , 1.        , 0.33716663],\n",
       "       [0.89337838, 0.16033755, 0.24393723, 0.79946996, 0.753609  ],\n",
       "       [0.54351351, 0.12236287, 0.17261056, 0.62279152, 0.12405187],\n",
       "       [0.39243243, 0.0464135 , 0.28673324, 0.70671378, 0.12967947],\n",
       "       [0.36689189, 0.05485232, 0.20827389, 0.80123675, 0.52410081],\n",
       "       [0.34135135, 0.07594937, 0.2831669 , 0.95671378, 0.17200881],\n",
       "       [0.70824324, 0.07172996, 0.2403709 , 0.88515901, 0.1866895 ],\n",
       "       [0.45567568, 0.02742616, 0.17261056, 0.9319788 , 0.34573036],\n",
       "       [0.80202703, 0.12236287, 0.29743224, 0.68816254, 0.16075361],\n",
       "       [0.76621622, 0.06751055, 0.29029957, 0.96289753, 0.61487644],\n",
       "       [0.62972973, 0.10548523, 0.33666191, 0.75353357, 0.6253976 ],\n",
       "       [0.61608108, 0.13080169, 0.2510699 , 0.99381625, 0.19084903],\n",
       "       [0.36013514, 0.03164557, 0.16547789, 0.69964664, 0.70589675],\n",
       "       [0.73554054, 0.03586498, 0.13694722, 0.64840989, 0.23684854],\n",
       "       [0.71837838, 0.07594937, 0.2724679 , 0.80830389, 0.43968681],\n",
       "       [0.54783784, 0.05696203, 0.32952924, 0.75176678, 0.2148275 ],\n",
       "       [0.51364865, 0.08649789, 0.33666191, 0.6819788 , 0.28627355],\n",
       "       [0.76108108, 0.07383966, 0.39728959, 0.83568905, 0.35576217],\n",
       "       [0.68432432, 0.07172996, 0.40085592, 0.90106007, 0.52385613],\n",
       "       [0.67581081, 0.08860759, 0.20114123, 0.98056537, 0.21238072],\n",
       "       [0.05716216, 0.04852321, 0.17261056, 0.43727915, 0.71910937],\n",
       "       [0.16972973, 0.15822785, 0.28673324, 0.46908127, 0.96329826],\n",
       "       [0.38135135, 0.2257384 , 0.12268188, 0.45848057, 0.91362858],\n",
       "       [0.215     , 0.30590717, 0.2510699 , 0.44611307, 0.9168094 ],\n",
       "       [0.27054054, 0.58227848, 0.10128388, 0.43992933, 0.7232689 ],\n",
       "       [0.14243243, 0.29746835, 0.05492154, 0.34982332, 0.61854661],\n",
       "       [0.28324324, 0.48734177, 0.2853067 , 0.28886926, 0.67433325],\n",
       "       [0.34297297, 0.59915612, 0.15977175, 0.64929329, 0.8492782 ],\n",
       "       [0.29013514, 0.35021097, 0.16547789, 0.50795053, 0.62270614],\n",
       "       [0.16121622, 0.20253165, 0.33666191, 0.47791519, 0.92488378],\n",
       "       [0.13391892, 0.19831224, 0.31383738, 0.58127208, 0.60337656],\n",
       "       [0.15108108, 0.14345992, 0.42225392, 0.41519435, 0.62833374],\n",
       "       [0.17918919, 0.53164557, 0.09415121, 0.46201413, 0.70687546],\n",
       "       [0.20986486, 0.3164557 , 0.13837375, 0.36130742, 0.47761194],\n",
       "       [0.17662162, 0.53797468, 0.5042796 , 0.63074205, 0.7930022 ],\n",
       "       [0.16472973, 0.37974684, 0.43366619, 0.63162544, 0.69659897],\n",
       "       [0.215     , 0.25949367, 0.10699001, 0.35424028, 0.89601174],\n",
       "       [0.28324324, 0.35654008, 0.08131241, 0.66519435, 0.83973575],\n",
       "       [0.11689189, 0.20675105, 0.15834522, 0.49381625, 0.69439687],\n",
       "       [0.18094595, 0.3185654 , 0.33666191, 0.61042403, 0.3542941 ],\n",
       "       [0.11013514, 0.46624473, 0.13195435, 0.45583039, 0.39172988],\n",
       "       [0.10405405, 0.40506329, 0.        , 0.52826855, 0.58698312],\n",
       "       [0.22351351, 0.46202532, 0.31098431, 0.47968198, 0.48177147],\n",
       "       [0.07851351, 0.26160338, 0.2510699 , 0.31978799, 0.89405432],\n",
       "       [0.30040541, 0.26371308, 0.16904422, 0.36130742, 0.73109861],\n",
       "       [0.15108108, 0.39451477, 0.17261056, 0.3754417 , 0.67629068],\n",
       "       [0.11432432, 0.33755274, 0.12268188, 0.2844523 , 0.7570345 ],\n",
       "       [0.09986486, 0.28481013, 0.15477889, 0.41784452, 0.80523611],\n",
       "       [0.11256757, 0.26793249, 0.20256776, 0.29681979, 0.76584292],\n",
       "       [0.12972973, 0.28481013, 0.28673324, 0.35777385, 0.89821385],\n",
       "       [0.03918919, 0.26371308, 0.24750357, 0.68109541, 0.52899437],\n",
       "       [0.09554054, 0.24472574, 0.14407989, 0.37102473, 0.76608759],\n",
       "       [0.19797297, 0.19198312, 0.12268188, 0.69522968, 0.92096893],\n",
       "       [0.15108108, 0.23628692, 0.15477889, 0.4885159 , 0.46072914],\n",
       "       [0.07418919, 0.40295359, 0.0085592 , 0.5114841 , 0.44751652],\n",
       "       [0.16810811, 0.40506329, 0.04778887, 0.61749117, 0.91020308],\n",
       "       [0.11256757, 0.407173  , 0.4700428 , 0.47968198, 0.62515292],\n",
       "       [0.10405405, 0.1371308 , 0.24750357, 0.43021201, 0.36579398],\n",
       "       [0.13824324, 0.4556962 , 0.10699001, 0.63869258, 0.66870565],\n",
       "       [0.27472973, 0.71940928, 0.2724679 , 0.60865724, 0.65891852],\n",
       "       [0.08702703, 0.55907173, 0.09129815, 0.5114841 , 0.55395155],\n",
       "       [0.1722973 , 0.38607595, 0.30813124, 0.40989399, 0.65720577],\n",
       "       [0.09986486, 0.21518987, 0.20256776, 0.40636042, 1.        ],\n",
       "       [0.12972973, 0.37341772, 0.11412268, 0.35600707, 0.79691705],\n",
       "       [0.06648649, 0.2742616 , 0.09771755, 0.3409894 , 0.81869342],\n",
       "       [0.14162162, 0.33333333, 0.2810271 , 0.5680212 , 0.86713971],\n",
       "       [0.12121622, 0.3164557 , 0.02639087, 0.46819788, 0.78101297],\n",
       "       [0.18094595, 0.35654008, 0.16547789, 0.59452297, 0.96574505],\n",
       "       [0.1722973 , 0.29957806, 0.14978602, 0.67402827, 0.71030095],\n",
       "       [0.12121622, 0.35864979, 0.02425107, 0.47349823, 0.79324688],\n",
       "       [0.11689189, 0.5443038 , 0.28673324, 0.32332155, 0.7626621 ],\n",
       "       [0.13824324, 0.47257384, 0.20256776, 0.54328622, 0.9887448 ],\n",
       "       [0.06148649, 0.407173  , 0.03352354, 0.61749117, 0.65108882],\n",
       "       [0.215     , 0.35654008, 0.23466476, 0.58480565, 0.35233668],\n",
       "       [0.15364865, 0.35232068, 0.11126961, 0.66784452, 0.64595057],\n",
       "       [0.13824324, 0.41139241, 0.07631954, 0.29858657, 0.56667482],\n",
       "       [0.05283784, 0.38607595, 0.09201141, 0.30300353, 0.45363347],\n",
       "       [0.05716216, 0.26582278, 0.15477889, 0.66519435, 0.56985564],\n",
       "       [0.06648649, 0.36919831, 0.04778887, 0.63339223, 0.9887448 ],\n",
       "       [0.18094595, 0.19198312, 0.06704708, 0.3745583 , 0.92953266],\n",
       "       [0.        , 0.2742616 , 0.20399429, 0.43374558, 0.58796183],\n",
       "       [0.16810811, 0.51687764, 0.24750357, 0.52473498, 0.8020553 ],\n",
       "       [0.4027027 , 1.        , 0.13338088, 0.28268551, 0.87717152],\n",
       "       [0.06824324, 0.37763713, 0.06205421, 0.68109541, 0.97944703],\n",
       "       [0.46675676, 0.64345992, 0.83594864, 0.5114841 , 0.74528994],\n",
       "       [0.33878378, 0.45991561, 0.72182596, 0.47261484, 0.42818693],\n",
       "       [0.32162162, 0.45780591, 0.7253923 , 0.31360424, 0.40469782],\n",
       "       [0.33445946, 0.55696203, 0.54707561, 0.47084806, 0.75630046],\n",
       "       [0.50689189, 0.592827  , 0.54707561, 0.38869258, 0.51822853],\n",
       "       [0.11256757, 0.48734177, 0.07275321, 0.41254417, 0.67555664],\n",
       "       [0.12972973, 0.56751055, 0.07275321, 0.64487633, 0.46195253],\n",
       "       [0.12621622, 0.48734177, 0.07132668, 0.40282686, 0.87668216],\n",
       "       [0.22702703, 0.592827  , 0.05278174, 0.2835689 , 0.86787375],\n",
       "       [0.14675676, 0.40084388, 0.13409415, 0.58303887, 0.67457793],\n",
       "       [0.07162162, 0.44514768, 0.04564907, 0.57597173, 0.63396134],\n",
       "       [0.11256757, 0.29746835, 0.21540656, 0.36042403, 0.79324688]])"
      ]
     },
     "execution_count": 64,
     "metadata": {},
     "output_type": "execute_result"
    }
   ],
   "source": [
    "x_scaled"
   ]
  },
  {
   "cell_type": "code",
   "execution_count": 65,
   "id": "52987c06-b445-4106-bfec-8843f30ced4f",
   "metadata": {},
   "outputs": [
    {
     "data": {
      "text/html": [
       "<div>\n",
       "<style scoped>\n",
       "    .dataframe tbody tr th:only-of-type {\n",
       "        vertical-align: middle;\n",
       "    }\n",
       "\n",
       "    .dataframe tbody tr th {\n",
       "        vertical-align: top;\n",
       "    }\n",
       "\n",
       "    .dataframe thead th {\n",
       "        text-align: right;\n",
       "    }\n",
       "</style>\n",
       "<table border=\"1\" class=\"dataframe\">\n",
       "  <thead>\n",
       "    <tr style=\"text-align: right;\">\n",
       "      <th></th>\n",
       "      <th>COLOR_INTENSITY</th>\n",
       "      <th>FLAVANOIDS</th>\n",
       "      <th>PROLINE</th>\n",
       "      <th>TEMPERATURE</th>\n",
       "      <th>FER_P2O5_PER</th>\n",
       "    </tr>\n",
       "  </thead>\n",
       "  <tbody>\n",
       "    <tr>\n",
       "      <th>0</th>\n",
       "      <td>0.372027</td>\n",
       "      <td>0.573840</td>\n",
       "      <td>0.561341</td>\n",
       "      <td>0.204947</td>\n",
       "      <td>0.783460</td>\n",
       "    </tr>\n",
       "    <tr>\n",
       "      <th>1</th>\n",
       "      <td>0.264459</td>\n",
       "      <td>0.510549</td>\n",
       "      <td>0.550642</td>\n",
       "      <td>0.210247</td>\n",
       "      <td>0.689503</td>\n",
       "    </tr>\n",
       "    <tr>\n",
       "      <th>2</th>\n",
       "      <td>0.375405</td>\n",
       "      <td>0.611814</td>\n",
       "      <td>0.646933</td>\n",
       "      <td>0.112191</td>\n",
       "      <td>0.199413</td>\n",
       "    </tr>\n",
       "    <tr>\n",
       "      <th>3</th>\n",
       "      <td>0.556351</td>\n",
       "      <td>0.664557</td>\n",
       "      <td>0.857347</td>\n",
       "      <td>0.022968</td>\n",
       "      <td>0.879618</td>\n",
       "    </tr>\n",
       "    <tr>\n",
       "      <th>4</th>\n",
       "      <td>0.259324</td>\n",
       "      <td>0.495781</td>\n",
       "      <td>0.325963</td>\n",
       "      <td>0.242049</td>\n",
       "      <td>0.880597</td>\n",
       "    </tr>\n",
       "    <tr>\n",
       "      <th>...</th>\n",
       "      <td>...</td>\n",
       "      <td>...</td>\n",
       "      <td>...</td>\n",
       "      <td>...</td>\n",
       "      <td>...</td>\n",
       "    </tr>\n",
       "    <tr>\n",
       "      <th>189</th>\n",
       "      <td>0.126216</td>\n",
       "      <td>0.487342</td>\n",
       "      <td>0.071327</td>\n",
       "      <td>0.402827</td>\n",
       "      <td>0.876682</td>\n",
       "    </tr>\n",
       "    <tr>\n",
       "      <th>190</th>\n",
       "      <td>0.227027</td>\n",
       "      <td>0.592827</td>\n",
       "      <td>0.052782</td>\n",
       "      <td>0.283569</td>\n",
       "      <td>0.867874</td>\n",
       "    </tr>\n",
       "    <tr>\n",
       "      <th>191</th>\n",
       "      <td>0.146757</td>\n",
       "      <td>0.400844</td>\n",
       "      <td>0.134094</td>\n",
       "      <td>0.583039</td>\n",
       "      <td>0.674578</td>\n",
       "    </tr>\n",
       "    <tr>\n",
       "      <th>192</th>\n",
       "      <td>0.071622</td>\n",
       "      <td>0.445148</td>\n",
       "      <td>0.045649</td>\n",
       "      <td>0.575972</td>\n",
       "      <td>0.633961</td>\n",
       "    </tr>\n",
       "    <tr>\n",
       "      <th>193</th>\n",
       "      <td>0.112568</td>\n",
       "      <td>0.297468</td>\n",
       "      <td>0.215407</td>\n",
       "      <td>0.360424</td>\n",
       "      <td>0.793247</td>\n",
       "    </tr>\n",
       "  </tbody>\n",
       "</table>\n",
       "<p>194 rows × 5 columns</p>\n",
       "</div>"
      ],
      "text/plain": [
       "     COLOR_INTENSITY  FLAVANOIDS   PROLINE  TEMPERATURE  FER_P2O5_PER\n",
       "0           0.372027    0.573840  0.561341     0.204947      0.783460\n",
       "1           0.264459    0.510549  0.550642     0.210247      0.689503\n",
       "2           0.375405    0.611814  0.646933     0.112191      0.199413\n",
       "3           0.556351    0.664557  0.857347     0.022968      0.879618\n",
       "4           0.259324    0.495781  0.325963     0.242049      0.880597\n",
       "..               ...         ...       ...          ...           ...\n",
       "189         0.126216    0.487342  0.071327     0.402827      0.876682\n",
       "190         0.227027    0.592827  0.052782     0.283569      0.867874\n",
       "191         0.146757    0.400844  0.134094     0.583039      0.674578\n",
       "192         0.071622    0.445148  0.045649     0.575972      0.633961\n",
       "193         0.112568    0.297468  0.215407     0.360424      0.793247\n",
       "\n",
       "[194 rows x 5 columns]"
      ]
     },
     "execution_count": 65,
     "metadata": {},
     "output_type": "execute_result"
    }
   ],
   "source": [
    "x_scaled=pd.DataFrame(x_scaled, columns=x.columns)\n",
    "x_scaled"
   ]
  },
  {
   "cell_type": "code",
   "execution_count": 67,
   "id": "23db532d-0428-4e5e-83d2-31f8e8c9c346",
   "metadata": {},
   "outputs": [],
   "source": [
    "#Q-10 Perfrom cross validation with split ratio 80:20 and stratification\n",
    "from sklearn.model_selection import train_test_split\n",
    "x_train, x_test, y_train,y_test= train_test_split(x_scaled,y,random_state=0, stratify=y)"
   ]
  },
  {
   "cell_type": "code",
   "execution_count": 68,
   "id": "d07aaff3-fc47-48ff-aabe-ff3786597e7d",
   "metadata": {},
   "outputs": [
    {
     "data": {
      "text/plain": [
       "(145, 5)"
      ]
     },
     "execution_count": 68,
     "metadata": {},
     "output_type": "execute_result"
    }
   ],
   "source": [
    "x_train.shape"
   ]
  },
  {
   "cell_type": "code",
   "execution_count": 69,
   "id": "f0fbc871-348f-4ffe-b0d2-40a03fe4e73b",
   "metadata": {},
   "outputs": [
    {
     "data": {
      "text/plain": [
       "(145,)"
      ]
     },
     "execution_count": 69,
     "metadata": {},
     "output_type": "execute_result"
    }
   ],
   "source": [
    "y_train.shape"
   ]
  },
  {
   "cell_type": "code",
   "execution_count": 78,
   "id": "831c48a3-2340-4f70-91db-84062e81d14e",
   "metadata": {},
   "outputs": [],
   "source": [
    "#Q-11 Implement all classification algorithm to check the accuracy of data\n",
    "from sklearn.linear_model import LogisticRegression\n",
    "from sklearn.tree import DecisionTreeClassifier\n",
    "from sklearn.ensemble import RandomForestClassifier\n",
    "from sklearn.neighbors import KNeighborsClassifier\n",
    "from sklearn.svm import SVC\n",
    "from sklearn.naive_bayes import GaussianNB"
   ]
  },
  {
   "cell_type": "code",
   "execution_count": 71,
   "id": "2c08d62e-2c18-45b7-b62d-cd1ba19498bd",
   "metadata": {},
   "outputs": [],
   "source": [
    "clf_log= LogisticRegression()\n",
    "clf_df = DecisionTreeClassifier(random_state=0)\n",
    "clf_rf= RandomForestClassifier(random_state=0, n_estimators=10)\n",
    "clf_knn= KNeighborsClassifier(n_neighbors=5)\n",
    "clf_svm= SVC(random_state=0, kernel='rbf')\n",
    "clf_nb= GaussianNB()"
   ]
  },
  {
   "cell_type": "code",
   "execution_count": 72,
   "id": "d74436a7-c2bb-471e-bc30-d5c069564ee1",
   "metadata": {},
   "outputs": [],
   "source": [
    "# Logistic Regression\n",
    "y_log=clf_log.fit(x_train, y_train)\n",
    "y_plog= clf_log.predict(x_test)"
   ]
  },
  {
   "cell_type": "code",
   "execution_count": 73,
   "id": "8d99986a-e5ba-472d-b0c4-6370e2de8dc4",
   "metadata": {},
   "outputs": [],
   "source": [
    "# Decision Tree\n",
    "y_df=clf_df.fit(x_train, y_train)\n",
    "y_pdf= clf_df.predict(x_test)"
   ]
  },
  {
   "cell_type": "code",
   "execution_count": 74,
   "id": "80de4592-f3d6-4c0b-8ad5-31980f371f45",
   "metadata": {},
   "outputs": [],
   "source": [
    "# Random Forest\n",
    "y_rf=clf_rf.fit(x_train, y_train)\n",
    "y_prf= clf_rf.predict(x_test)"
   ]
  },
  {
   "cell_type": "code",
   "execution_count": 75,
   "id": "2dfe8882-9f53-41d1-b2a0-b1548adca060",
   "metadata": {},
   "outputs": [],
   "source": [
    "# Nearest Neighbour\n",
    "y_knn=clf_knn.fit(x_train, y_train)\n",
    "y_pknn= clf_knn.predict(x_test)"
   ]
  },
  {
   "cell_type": "code",
   "execution_count": 76,
   "id": "b13eaf95-947c-40d0-823e-1c0ac4e1c8b3",
   "metadata": {},
   "outputs": [],
   "source": [
    "# SVM\n",
    "y_svm=clf_svm.fit(x_train, y_train)\n",
    "y_psvm= clf_svm.predict(x_test)"
   ]
  },
  {
   "cell_type": "code",
   "execution_count": 77,
   "id": "d867c84f-efb3-4b5f-b028-45b35ab0575c",
   "metadata": {},
   "outputs": [],
   "source": [
    "# Naive Bayes\n",
    "y_nb=clf_nb.fit(x_train, y_train)\n",
    "y_pnb= clf_nb.predict(x_test)"
   ]
  },
  {
   "cell_type": "code",
   "execution_count": 79,
   "id": "c68b6b63-dbf1-44f0-b606-07938da47861",
   "metadata": {},
   "outputs": [],
   "source": [
    "from sklearn.metrics import accuracy_score"
   ]
  },
  {
   "cell_type": "code",
   "execution_count": 80,
   "id": "4758ef94-1a2a-40c1-a0ff-b4a6662746f1",
   "metadata": {},
   "outputs": [
    {
     "name": "stdout",
     "output_type": "stream",
     "text": [
      "Logistic Regression 0.8979591836734694\n",
      "Decision Tree 0.9387755102040817\n",
      "Random Forest 0.9591836734693877\n",
      "Nearest Neighbour 0.9183673469387755\n",
      "SVM 0.9387755102040817\n",
      "Naive Bayes 0.8979591836734694\n"
     ]
    }
   ],
   "source": [
    "print('Logistic Regression',accuracy_score(y_test,y_plog) )\n",
    "print('Decision Tree', accuracy_score(y_test,y_pdf))\n",
    "print('Random Forest',accuracy_score(y_test,y_prf) )\n",
    "print('Nearest Neighbour',accuracy_score(y_test,y_pknn) )\n",
    "print('SVM',accuracy_score(y_test,y_psvm) )\n",
    "print('Naive Bayes',accuracy_score(y_test,y_pnb) )"
   ]
  },
  {
   "cell_type": "code",
   "execution_count": 81,
   "id": "b0925182-6758-4449-8246-9abb0d38eff7",
   "metadata": {},
   "outputs": [],
   "source": [
    "#Q12-Create the data frame which shows the comparsion of accuracy and speed of different classification algorithm implemented on this dataset\n",
    "import time"
   ]
  },
  {
   "cell_type": "code",
   "execution_count": 101,
   "id": "8b84e479-61cc-41f3-adc5-2cad7d200d7d",
   "metadata": {},
   "outputs": [
    {
     "name": "stdout",
     "output_type": "stream",
     "text": [
      "Logistic Regression=  0.004271984100341797\n",
      "Decision Tree=  0.002000093460083008\n",
      "Random Forest=  0.011999368667602539\n",
      "Nearest Neighbour=  0.00099945068359375\n",
      "SVM=  0.0019996166229248047\n",
      "Naive Bayes=  0.0020003318786621094\n"
     ]
    }
   ],
   "source": [
    "start1 =time.time()\n",
    "clf_log.fit(x_train, y_train)\n",
    "end1= time.time()\n",
    "print('Logistic Regression= ', end1- start1)\n",
    "\n",
    "start2 =time.time()\n",
    "clf_df.fit(x_train, y_train)\n",
    "end2= time.time()\n",
    "print('Decision Tree= ', end2- start2)\n",
    "\n",
    "start3 =time.time()\n",
    "clf_rf.fit(x_train, y_train)\n",
    "end3= time.time()\n",
    "print('Random Forest= ', end3- start3)\n",
    "\n",
    "start4 =time.time()\n",
    "clf_knn.fit(x_train, y_train)\n",
    "end4= time.time()\n",
    "print('Nearest Neighbour= ', end4- start4)\n",
    "\n",
    "start5 =time.time()\n",
    "clf_svm.fit(x_train, y_train)\n",
    "end5= time.time()\n",
    "print('SVM= ', end5- start5)\n",
    "\n",
    "start6 =time.time()\n",
    "clf_nb.fit(x_train, y_train)\n",
    "end6= time.time()\n",
    "print('Naive Bayes= ', end6- start6)"
   ]
  },
  {
   "cell_type": "code",
   "execution_count": 104,
   "id": "ff378217-5e95-4076-badb-139fa898e43f",
   "metadata": {},
   "outputs": [],
   "source": [
    "result= pd.DataFrame({\n",
    "    'Algorithm':['Logistic Regression','Decision Tree','Random Forest','Nearest Neighbour','SVM','Naive Bayes'],\n",
    "    'Accuracy': [accuracy_score(y_test,y_plog) , accuracy_score(y_test,y_pdf) , accuracy_score(y_test,y_prf) , accuracy_score(y_test,y_pknn) , accuracy_score(y_test,y_psvm) , accuracy_score(y_test,y_pnb)],\n",
    "    'Time Required':[(end1- start1),(end2- start2),(end3- start3),(end4- start4),(end5- start5),(end6- start6)]\n",
    "})"
   ]
  },
  {
   "cell_type": "code",
   "execution_count": 105,
   "id": "1d11083a-d5fd-4374-9759-369b1d8fa2dc",
   "metadata": {},
   "outputs": [
    {
     "data": {
      "text/html": [
       "<div>\n",
       "<style scoped>\n",
       "    .dataframe tbody tr th:only-of-type {\n",
       "        vertical-align: middle;\n",
       "    }\n",
       "\n",
       "    .dataframe tbody tr th {\n",
       "        vertical-align: top;\n",
       "    }\n",
       "\n",
       "    .dataframe thead th {\n",
       "        text-align: right;\n",
       "    }\n",
       "</style>\n",
       "<table border=\"1\" class=\"dataframe\">\n",
       "  <thead>\n",
       "    <tr style=\"text-align: right;\">\n",
       "      <th></th>\n",
       "      <th>Algorithm</th>\n",
       "      <th>Accuracy</th>\n",
       "      <th>Time Required</th>\n",
       "    </tr>\n",
       "  </thead>\n",
       "  <tbody>\n",
       "    <tr>\n",
       "      <th>0</th>\n",
       "      <td>Logistic Regression</td>\n",
       "      <td>0.897959</td>\n",
       "      <td>0.004272</td>\n",
       "    </tr>\n",
       "    <tr>\n",
       "      <th>1</th>\n",
       "      <td>Decision Tree</td>\n",
       "      <td>0.938776</td>\n",
       "      <td>0.002000</td>\n",
       "    </tr>\n",
       "    <tr>\n",
       "      <th>2</th>\n",
       "      <td>Random Forest</td>\n",
       "      <td>0.959184</td>\n",
       "      <td>0.011999</td>\n",
       "    </tr>\n",
       "    <tr>\n",
       "      <th>3</th>\n",
       "      <td>Nearest Neighbour</td>\n",
       "      <td>0.918367</td>\n",
       "      <td>0.000999</td>\n",
       "    </tr>\n",
       "    <tr>\n",
       "      <th>4</th>\n",
       "      <td>SVM</td>\n",
       "      <td>0.938776</td>\n",
       "      <td>0.002000</td>\n",
       "    </tr>\n",
       "    <tr>\n",
       "      <th>5</th>\n",
       "      <td>Naive Bayes</td>\n",
       "      <td>0.897959</td>\n",
       "      <td>0.002000</td>\n",
       "    </tr>\n",
       "  </tbody>\n",
       "</table>\n",
       "</div>"
      ],
      "text/plain": [
       "             Algorithm  Accuracy  Time Required\n",
       "0  Logistic Regression  0.897959       0.004272\n",
       "1        Decision Tree  0.938776       0.002000\n",
       "2        Random Forest  0.959184       0.011999\n",
       "3    Nearest Neighbour  0.918367       0.000999\n",
       "4                  SVM  0.938776       0.002000\n",
       "5          Naive Bayes  0.897959       0.002000"
      ]
     },
     "execution_count": 105,
     "metadata": {},
     "output_type": "execute_result"
    }
   ],
   "source": [
    "result"
   ]
  },
  {
   "cell_type": "code",
   "execution_count": null,
   "id": "41a713d2-fa79-4e45-ba84-7f0717ed27bb",
   "metadata": {},
   "outputs": [],
   "source": []
  }
 ],
 "metadata": {
  "kernelspec": {
   "display_name": "Python 3 (ipykernel)",
   "language": "python",
   "name": "python3"
  },
  "language_info": {
   "codemirror_mode": {
    "name": "ipython",
    "version": 3
   },
   "file_extension": ".py",
   "mimetype": "text/x-python",
   "name": "python",
   "nbconvert_exporter": "python",
   "pygments_lexer": "ipython3",
   "version": "3.11.7"
  }
 },
 "nbformat": 4,
 "nbformat_minor": 5
}
